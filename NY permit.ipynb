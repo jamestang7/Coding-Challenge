{
 "cells": [
  {
   "cell_type": "code",
   "execution_count": 1,
   "metadata": {},
   "outputs": [],
   "source": [
    "import numpy as np\n",
    "import pandas as pd "
   ]
  },
  {
   "cell_type": "code",
   "execution_count": 2,
   "metadata": {},
   "outputs": [
    {
     "name": "stderr",
     "output_type": "stream",
     "text": [
      "/Users/jamestang1/opt/anaconda3/lib/python3.8/site-packages/IPython/core/interactiveshell.py:3071: DtypeWarning: Columns (8,9,10,15,31,33,36,51) have mixed types.Specify dtype option on import or set low_memory=False.\n",
      "  has_raised = await self.run_ast_nodes(code_ast.body, cell_name,\n"
     ]
    },
    {
     "data": {
      "text/html": [
       "<div>\n",
       "<style scoped>\n",
       "    .dataframe tbody tr th:only-of-type {\n",
       "        vertical-align: middle;\n",
       "    }\n",
       "\n",
       "    .dataframe tbody tr th {\n",
       "        vertical-align: top;\n",
       "    }\n",
       "\n",
       "    .dataframe thead th {\n",
       "        text-align: right;\n",
       "    }\n",
       "</style>\n",
       "<table border=\"1\" class=\"dataframe\">\n",
       "  <thead>\n",
       "    <tr style=\"text-align: right;\">\n",
       "      <th></th>\n",
       "      <th>BOROUGH</th>\n",
       "      <th>BIN</th>\n",
       "      <th>Number</th>\n",
       "      <th>Street</th>\n",
       "      <th>Job #</th>\n",
       "      <th>Job doc. #</th>\n",
       "      <th>Job Type</th>\n",
       "      <th>Self_Cert</th>\n",
       "      <th>Block</th>\n",
       "      <th>Lot</th>\n",
       "      <th>...</th>\n",
       "      <th>Owner’s House State</th>\n",
       "      <th>Owner’s House Zip Code</th>\n",
       "      <th>Owner's Phone #</th>\n",
       "      <th>DOBRunDate</th>\n",
       "      <th>Latitude</th>\n",
       "      <th>Longitude</th>\n",
       "      <th>Council District</th>\n",
       "      <th>Census Tract</th>\n",
       "      <th>BBL</th>\n",
       "      <th>NTA</th>\n",
       "    </tr>\n",
       "  </thead>\n",
       "  <tbody>\n",
       "    <tr>\n",
       "      <th>0</th>\n",
       "      <td>BRONX</td>\n",
       "      <td>2118801</td>\n",
       "      <td>2960</td>\n",
       "      <td>WEBSTER AVENUE</td>\n",
       "      <td>201088492</td>\n",
       "      <td>4</td>\n",
       "      <td>NB</td>\n",
       "      <td>NaN</td>\n",
       "      <td>3274</td>\n",
       "      <td>4</td>\n",
       "      <td>...</td>\n",
       "      <td>NaN</td>\n",
       "      <td>NaN</td>\n",
       "      <td>NaN</td>\n",
       "      <td>2016-01-03T00:00:00</td>\n",
       "      <td>40.867490</td>\n",
       "      <td>-73.883225</td>\n",
       "      <td>11.0</td>\n",
       "      <td>425.0</td>\n",
       "      <td>2.032740e+09</td>\n",
       "      <td>Norwood                                       ...</td>\n",
       "    </tr>\n",
       "    <tr>\n",
       "      <th>1</th>\n",
       "      <td>BRONX</td>\n",
       "      <td>2096812</td>\n",
       "      <td>100</td>\n",
       "      <td>DEKRUIF PLACE</td>\n",
       "      <td>200716298</td>\n",
       "      <td>2</td>\n",
       "      <td>A2</td>\n",
       "      <td>NaN</td>\n",
       "      <td>5141</td>\n",
       "      <td>120</td>\n",
       "      <td>...</td>\n",
       "      <td>NaN</td>\n",
       "      <td>NaN</td>\n",
       "      <td>NaN</td>\n",
       "      <td>2016-01-03T00:00:00</td>\n",
       "      <td>40.875769</td>\n",
       "      <td>-73.828899</td>\n",
       "      <td>12.0</td>\n",
       "      <td>46201.0</td>\n",
       "      <td>2.051410e+09</td>\n",
       "      <td>Co-op City                                    ...</td>\n",
       "    </tr>\n",
       "    <tr>\n",
       "      <th>2</th>\n",
       "      <td>BRONX</td>\n",
       "      <td>2008604</td>\n",
       "      <td>1898</td>\n",
       "      <td>HARRISON AVENUE</td>\n",
       "      <td>200974650</td>\n",
       "      <td>2</td>\n",
       "      <td>A2</td>\n",
       "      <td>NaN</td>\n",
       "      <td>2869</td>\n",
       "      <td>87</td>\n",
       "      <td>...</td>\n",
       "      <td>NaN</td>\n",
       "      <td>NaN</td>\n",
       "      <td>NaN</td>\n",
       "      <td>2016-01-03T00:00:00</td>\n",
       "      <td>40.852603</td>\n",
       "      <td>-73.911461</td>\n",
       "      <td>14.0</td>\n",
       "      <td>243.0</td>\n",
       "      <td>2.028690e+09</td>\n",
       "      <td>University Heights-Morris Heights             ...</td>\n",
       "    </tr>\n",
       "    <tr>\n",
       "      <th>3</th>\n",
       "      <td>BRONX</td>\n",
       "      <td>2007652</td>\n",
       "      <td>1998</td>\n",
       "      <td>MORRIS AVENUE</td>\n",
       "      <td>200278118</td>\n",
       "      <td>2</td>\n",
       "      <td>A1</td>\n",
       "      <td>NaN</td>\n",
       "      <td>2807</td>\n",
       "      <td>15</td>\n",
       "      <td>...</td>\n",
       "      <td>NaN</td>\n",
       "      <td>NaN</td>\n",
       "      <td>NaN</td>\n",
       "      <td>2016-01-03T00:00:00</td>\n",
       "      <td>40.851661</td>\n",
       "      <td>-73.906937</td>\n",
       "      <td>14.0</td>\n",
       "      <td>241.0</td>\n",
       "      <td>2.028070e+09</td>\n",
       "      <td>Mount Hope                                    ...</td>\n",
       "    </tr>\n",
       "    <tr>\n",
       "      <th>4</th>\n",
       "      <td>BRONX</td>\n",
       "      <td>2084155</td>\n",
       "      <td>565</td>\n",
       "      <td>WEST  235 STREET</td>\n",
       "      <td>201119173</td>\n",
       "      <td>2</td>\n",
       "      <td>A2</td>\n",
       "      <td>Y</td>\n",
       "      <td>5794</td>\n",
       "      <td>484</td>\n",
       "      <td>...</td>\n",
       "      <td>NaN</td>\n",
       "      <td>NaN</td>\n",
       "      <td>NaN</td>\n",
       "      <td>2016-01-03T00:00:00</td>\n",
       "      <td>40.885720</td>\n",
       "      <td>-73.910270</td>\n",
       "      <td>11.0</td>\n",
       "      <td>297.0</td>\n",
       "      <td>2.057940e+09</td>\n",
       "      <td>Spuyten Duyvil-Kingsbridge                    ...</td>\n",
       "    </tr>\n",
       "    <tr>\n",
       "      <th>5</th>\n",
       "      <td>BRONX</td>\n",
       "      <td>2012264</td>\n",
       "      <td>606</td>\n",
       "      <td>EAST FORDHAM ROAD</td>\n",
       "      <td>200089251</td>\n",
       "      <td>2</td>\n",
       "      <td>A1</td>\n",
       "      <td>NaN</td>\n",
       "      <td>3078</td>\n",
       "      <td>16</td>\n",
       "      <td>...</td>\n",
       "      <td>NaN</td>\n",
       "      <td>NaN</td>\n",
       "      <td>NaN</td>\n",
       "      <td>2016-01-03T00:00:00</td>\n",
       "      <td>40.858324</td>\n",
       "      <td>-73.884836</td>\n",
       "      <td>15.0</td>\n",
       "      <td>389.0</td>\n",
       "      <td>2.030780e+09</td>\n",
       "      <td>Belmont                                       ...</td>\n",
       "    </tr>\n",
       "    <tr>\n",
       "      <th>6</th>\n",
       "      <td>BRONX</td>\n",
       "      <td>2103486</td>\n",
       "      <td>730</td>\n",
       "      <td>CONCOURSE VILLAGE WEST</td>\n",
       "      <td>200896762</td>\n",
       "      <td>2</td>\n",
       "      <td>NB</td>\n",
       "      <td>Y</td>\n",
       "      <td>2443</td>\n",
       "      <td>78</td>\n",
       "      <td>...</td>\n",
       "      <td>NaN</td>\n",
       "      <td>NaN</td>\n",
       "      <td>NaN</td>\n",
       "      <td>2016-01-03T00:00:00</td>\n",
       "      <td>40.822310</td>\n",
       "      <td>-73.923829</td>\n",
       "      <td>17.0</td>\n",
       "      <td>61.0</td>\n",
       "      <td>2.024430e+09</td>\n",
       "      <td>East Concourse-Concourse Village              ...</td>\n",
       "    </tr>\n",
       "    <tr>\n",
       "      <th>7</th>\n",
       "      <td>BRONX</td>\n",
       "      <td>2000391</td>\n",
       "      <td>345</td>\n",
       "      <td>BROOK AVENUE</td>\n",
       "      <td>201015613</td>\n",
       "      <td>2</td>\n",
       "      <td>A2</td>\n",
       "      <td>Y</td>\n",
       "      <td>2286</td>\n",
       "      <td>36</td>\n",
       "      <td>...</td>\n",
       "      <td>NaN</td>\n",
       "      <td>NaN</td>\n",
       "      <td>NaN</td>\n",
       "      <td>2016-01-03T00:00:00</td>\n",
       "      <td>40.810040</td>\n",
       "      <td>-73.917792</td>\n",
       "      <td>8.0</td>\n",
       "      <td>41.0</td>\n",
       "      <td>2.022860e+09</td>\n",
       "      <td>Mott Haven-Port Morris                        ...</td>\n",
       "    </tr>\n",
       "    <tr>\n",
       "      <th>8</th>\n",
       "      <td>BRONX</td>\n",
       "      <td>2011594</td>\n",
       "      <td>4487</td>\n",
       "      <td>THIRD AVENUE</td>\n",
       "      <td>200348524</td>\n",
       "      <td>3</td>\n",
       "      <td>NB</td>\n",
       "      <td>Y</td>\n",
       "      <td>3051</td>\n",
       "      <td>45</td>\n",
       "      <td>...</td>\n",
       "      <td>NaN</td>\n",
       "      <td>NaN</td>\n",
       "      <td>NaN</td>\n",
       "      <td>2016-01-03T00:00:00</td>\n",
       "      <td>40.853237</td>\n",
       "      <td>-73.891742</td>\n",
       "      <td>15.0</td>\n",
       "      <td>385.0</td>\n",
       "      <td>2.030510e+09</td>\n",
       "      <td>Claremont-Bathgate                            ...</td>\n",
       "    </tr>\n",
       "    <tr>\n",
       "      <th>9</th>\n",
       "      <td>BRONX</td>\n",
       "      <td>2001106</td>\n",
       "      <td>575</td>\n",
       "      <td>WALTON AVENUE</td>\n",
       "      <td>200920049</td>\n",
       "      <td>2</td>\n",
       "      <td>A1</td>\n",
       "      <td>NaN</td>\n",
       "      <td>2352</td>\n",
       "      <td>43</td>\n",
       "      <td>...</td>\n",
       "      <td>NaN</td>\n",
       "      <td>NaN</td>\n",
       "      <td>NaN</td>\n",
       "      <td>2016-01-03T00:00:00</td>\n",
       "      <td>40.819464</td>\n",
       "      <td>-73.928110</td>\n",
       "      <td>8.0</td>\n",
       "      <td>63.0</td>\n",
       "      <td>2.023520e+09</td>\n",
       "      <td>West Concourse                                ...</td>\n",
       "    </tr>\n",
       "  </tbody>\n",
       "</table>\n",
       "<p>10 rows × 60 columns</p>\n",
       "</div>"
      ],
      "text/plain": [
       "  BOROUGH      BIN Number                  Street      Job #  Job doc. #  \\\n",
       "0   BRONX  2118801   2960          WEBSTER AVENUE  201088492           4   \n",
       "1   BRONX  2096812    100           DEKRUIF PLACE  200716298           2   \n",
       "2   BRONX  2008604   1898         HARRISON AVENUE  200974650           2   \n",
       "3   BRONX  2007652   1998           MORRIS AVENUE  200278118           2   \n",
       "4   BRONX  2084155    565        WEST  235 STREET  201119173           2   \n",
       "5   BRONX  2012264    606       EAST FORDHAM ROAD  200089251           2   \n",
       "6   BRONX  2103486    730  CONCOURSE VILLAGE WEST  200896762           2   \n",
       "7   BRONX  2000391    345            BROOK AVENUE  201015613           2   \n",
       "8   BRONX  2011594   4487            THIRD AVENUE  200348524           3   \n",
       "9   BRONX  2001106    575           WALTON AVENUE  200920049           2   \n",
       "\n",
       "  Job Type Self_Cert Block  Lot  ... Owner’s House State  \\\n",
       "0       NB       NaN  3274    4  ...                 NaN   \n",
       "1       A2       NaN  5141  120  ...                 NaN   \n",
       "2       A2       NaN  2869   87  ...                 NaN   \n",
       "3       A1       NaN  2807   15  ...                 NaN   \n",
       "4       A2         Y  5794  484  ...                 NaN   \n",
       "5       A1       NaN  3078   16  ...                 NaN   \n",
       "6       NB         Y  2443   78  ...                 NaN   \n",
       "7       A2         Y  2286   36  ...                 NaN   \n",
       "8       NB         Y  3051   45  ...                 NaN   \n",
       "9       A1       NaN  2352   43  ...                 NaN   \n",
       "\n",
       "   Owner’s House Zip Code  Owner's Phone #           DOBRunDate   Latitude  \\\n",
       "0                     NaN              NaN  2016-01-03T00:00:00  40.867490   \n",
       "1                     NaN              NaN  2016-01-03T00:00:00  40.875769   \n",
       "2                     NaN              NaN  2016-01-03T00:00:00  40.852603   \n",
       "3                     NaN              NaN  2016-01-03T00:00:00  40.851661   \n",
       "4                     NaN              NaN  2016-01-03T00:00:00  40.885720   \n",
       "5                     NaN              NaN  2016-01-03T00:00:00  40.858324   \n",
       "6                     NaN              NaN  2016-01-03T00:00:00  40.822310   \n",
       "7                     NaN              NaN  2016-01-03T00:00:00  40.810040   \n",
       "8                     NaN              NaN  2016-01-03T00:00:00  40.853237   \n",
       "9                     NaN              NaN  2016-01-03T00:00:00  40.819464   \n",
       "\n",
       "   Longitude Council District Census Tract           BBL  \\\n",
       "0 -73.883225             11.0        425.0  2.032740e+09   \n",
       "1 -73.828899             12.0      46201.0  2.051410e+09   \n",
       "2 -73.911461             14.0        243.0  2.028690e+09   \n",
       "3 -73.906937             14.0        241.0  2.028070e+09   \n",
       "4 -73.910270             11.0        297.0  2.057940e+09   \n",
       "5 -73.884836             15.0        389.0  2.030780e+09   \n",
       "6 -73.923829             17.0         61.0  2.024430e+09   \n",
       "7 -73.917792              8.0         41.0  2.022860e+09   \n",
       "8 -73.891742             15.0        385.0  2.030510e+09   \n",
       "9 -73.928110              8.0         63.0  2.023520e+09   \n",
       "\n",
       "                                                 NTA  \n",
       "0  Norwood                                       ...  \n",
       "1  Co-op City                                    ...  \n",
       "2  University Heights-Morris Heights             ...  \n",
       "3  Mount Hope                                    ...  \n",
       "4  Spuyten Duyvil-Kingsbridge                    ...  \n",
       "5  Belmont                                       ...  \n",
       "6  East Concourse-Concourse Village              ...  \n",
       "7  Mott Haven-Port Morris                        ...  \n",
       "8  Claremont-Bathgate                            ...  \n",
       "9  West Concourse                                ...  \n",
       "\n",
       "[10 rows x 60 columns]"
      ]
     },
     "execution_count": 2,
     "metadata": {},
     "output_type": "execute_result"
    }
   ],
   "source": [
    "file='Historical_DOB_Permit_Issuance.csv'\n",
    "df=pd.read_csv(file)\n",
    "df.head(10)"
   ]
  },
  {
   "cell_type": "code",
   "execution_count": 3,
   "metadata": {},
   "outputs": [
    {
     "name": "stdout",
     "output_type": "stream",
     "text": [
      "0.23756920864755\n"
     ]
    }
   ],
   "source": [
    "filing_status=df['Filing Status']\n",
    "dic=dict(filing_status.value_counts().items())\n",
    "prportion=dic['RENEWAL']/sum(dic.values())\n",
    "print(prportion)"
   ]
  },
  {
   "cell_type": "code",
   "execution_count": 4,
   "metadata": {},
   "outputs": [
    {
     "name": "stdout",
     "output_type": "stream",
     "text": [
      "1.0805818771914573\n"
     ]
    }
   ],
   "source": [
    "# second question\n",
    "df_renewed=df[df['Filing Status']=='RENEWAL']\n",
    "df_type=df_renewed['Owner\\'s Business Type']\n",
    "dic=dict(df_type.value_counts().items())\n",
    "ratio=dic['CORPORATION']/dic['INDIVIDUAL']\n",
    "print(ratio)"
   ]
  },
  {
   "cell_type": "code",
   "execution_count": 5,
   "metadata": {},
   "outputs": [],
   "source": [
    "# third question"
   ]
  },
  {
   "cell_type": "code",
   "execution_count": 6,
   "metadata": {},
   "outputs": [],
   "source": [
    "import datetime\n",
    "#remove NAH data\n",
    "df1=df[pd.isna(df['Issuance Date'])==False]\n",
    "df1=df1[pd.isna(df1['Expiration Date'])==False]"
   ]
  },
  {
   "cell_type": "code",
   "execution_count": 7,
   "metadata": {},
   "outputs": [],
   "source": [
    "def compare(df):\n",
    "    lst=[]\n",
    "    df1=df[['Issuance Date','Expiration Date']]\n",
    "    for ind in df1.index: \n",
    "        start=datetime.datetime.strptime(str(df1['Issuance Date'][ind])[0:10],'%Y-%m-%d')\n",
    "        end=datetime.datetime.strptime(str(df1['Expiration Date'][ind])[0:10],'%Y-%m-%d')\n",
    "        delta=end-start\n",
    "        lst.append(delta.days)\n",
    "    return lst\n",
    "lst=compare(df1)"
   ]
  },
  {
   "cell_type": "code",
   "execution_count": 8,
   "metadata": {},
   "outputs": [],
   "source": [
    "# get the ratio of >365\n",
    "bl_lst=[]\n",
    "for i in lst:\n",
    "    if i >365:\n",
    "        bl_lst.append(True)\n",
    "    else:\n",
    "        bl_lst.append(False)"
   ]
  },
  {
   "cell_type": "code",
   "execution_count": 9,
   "metadata": {},
   "outputs": [],
   "source": [
    "# attach bl_lst to the df1(cleaned one)\n",
    "bl_df=pd.DataFrame(bl_lst,columns=['BL'])\n",
    "df1=pd.concat([bl_df,df1['BOROUGH']],axis=1)\n",
    "grouped=df1.groupby('BOROUGH')"
   ]
  },
  {
   "cell_type": "code",
   "execution_count": 10,
   "metadata": {
    "scrolled": true
   },
   "outputs": [
    {
     "name": "stdout",
     "output_type": "stream",
     "text": [
      "0.0696188404201178\n"
     ]
    }
   ],
   "source": [
    "lst_name=[]\n",
    "lst_num=[]\n",
    "for name, group in grouped:\n",
    "    tf=group['BL']\n",
    "    dic1=dict(tf.value_counts().items())\n",
    "    N=dic1[True]\n",
    "    lst_name.append(name)\n",
    "    lst_num.append(N)\n",
    "df2=pd.DataFrame(lst_num,index=lst_name,columns=['Number of Cars at least one-year'])\n",
    "lst_name=[]\n",
    "lst_num=[]\n",
    "for name, group in grouped:\n",
    "    tf=group['BL']\n",
    "    dic1=dict(tf.value_counts().items())\n",
    "    N=dic1[False]\n",
    "    lst_name.append(name)\n",
    "    lst_num.append(N)\n",
    "x=pd.DataFrame(lst_num,index=lst_name,columns=['Number of Cars less than one-year'])\n",
    "df2=pd.concat([df2,x],axis=1) \n",
    "df2.head()\n",
    "name=df2.idxmax(axis=0)[0]\n",
    "ratio=df2.loc[name][0]/(df2.loc[name][0]+df2.loc[name][1])\n",
    "print(ratio)"
   ]
  },
  {
   "cell_type": "code",
   "execution_count": 11,
   "metadata": {},
   "outputs": [],
   "source": [
    "# Fourth Question\n",
    "df1=df[pd.isna(df['Issuance Date'])==False]\n",
    "lst=df1['Issuance Date']\n",
    "lst1=[]\n",
    "for i in lst:\n",
    "    i=int(i[0:4])\n",
    "    lst1.append(i)\n",
    "df1['Year']=lst1\n",
    "# get the frequency\n",
    "years=[year for year in df1['Year'].value_counts().items()]\n",
    "x=[]\n",
    "y=[]\n",
    "for i in years:\n",
    "    x.append(i[0])\n",
    "    y.append(i[1])\n",
    "df3=pd.DataFrame(y,index=x,columns=['#'])\n",
    "df3=df3[df3.index>=1990]\n",
    "df3=df3[df3.index<=2012]\n",
    "df3=df3.sort_index()\n",
    "x=np.array(df3.index).reshape((-1,1))\n",
    "y=np.array(df3['#'])\n",
    "from sklearn.linear_model import LinearRegression\n",
    "reg=LinearRegression().fit(X=x,y=y)\n",
    "r2=reg.score(x,y)"
   ]
  },
  {
   "cell_type": "code",
   "execution_count": 12,
   "metadata": {},
   "outputs": [],
   "source": [
    "# question 5\n",
    "# get year between 2012 to 1990\n",
    "df1=df[pd.isna(df['Issuance Date'])==False]\n",
    "df1=df1[pd.isna(df1['Expiration Date'])==False]\n",
    "lst1=[]\n",
    "lst=df1['Issuance Date']\n",
    "for i in lst:\n",
    "    i=int(i[0:4])\n",
    "    lst1.append(i)\n",
    "df1['Year']=pd.Series(lst1)\n",
    "df1=df1[df1['Year']>=1990]\n",
    "df1=df1[df1['Year']<=2012]\n",
    "\n",
    "# get # the date of >60\n",
    "bl_lst=[]\n",
    "lst=compare(df1)\n",
    "for i in lst:\n",
    "    if i >=60:\n",
    "        bl_lst.append(True)\n",
    "    else:\n",
    "        bl_lst.append(False)\n",
    "df1['TF']=pd.Series(bl_lst)\n"
   ]
  },
  {
   "cell_type": "code",
   "execution_count": 13,
   "metadata": {},
   "outputs": [],
   "source": [
    "#Separate into two groups one in November, one not\n",
    "lst=df1['Job Start Date']\n",
    "lst_Nov=[]\n",
    "for i in lst:\n",
    "    i=str(i)\n",
    "    i=i[5:7]\n",
    "    if i=='11':\n",
    "        i='November'\n",
    "        lst_Nov.append(i)\n",
    "    else:\n",
    "        i='Not November'\n",
    "        lst_Nov.append(i)\n",
    "df1['Month']=pd.Series(lst_Nov)\n",
    "df2=pd.concat([df1['TF'],df1['Month']],axis=1)\n"
   ]
  },
  {
   "cell_type": "code",
   "execution_count": 14,
   "metadata": {},
   "outputs": [
    {
     "data": {
      "text/plain": [
       "TF     Month       \n",
       "False  Not November     146901\n",
       "       November          20387\n",
       "True   Not November    1992708\n",
       "       November         166461\n",
       "Name: Month, dtype: int64"
      ]
     },
     "execution_count": 14,
     "metadata": {},
     "output_type": "execute_result"
    }
   ],
   "source": [
    "group1=df2.groupby('TF')\n",
    "group1['Month'].value_counts()"
   ]
  },
  {
   "cell_type": "code",
   "execution_count": 15,
   "metadata": {},
   "outputs": [
    {
     "name": "stdout",
     "output_type": "stream",
     "text": [
      "{(False, 'Not November'): 146901, (False, 'November'): 20387, (True, 'Not November'): 1992708, (True, 'November'): 166461}\n",
      "4212.970726517267\n"
     ]
    }
   ],
   "source": [
    "from scipy.stats import chi2_contingency\n",
    "from scipy.stats import chi2\n",
    "group1=df2.groupby('TF')\n",
    "value=dict(group1['Month'].value_counts().items())\n",
    "print(value)\n",
    "a,b,c,d=list(value.values())[0],list(value.values())[1],list(value.values())[2],list(value.values())[3]\n",
    "table=[[a,b],[c,d]]\n",
    "stat, p, dof, expected = chi2_contingency(table)\n",
    "print(stat)"
   ]
  },
  {
   "cell_type": "code",
   "execution_count": 16,
   "metadata": {},
   "outputs": [
    {
     "data": {
      "text/plain": [
       "True"
      ]
     },
     "execution_count": 16,
     "metadata": {},
     "output_type": "execute_result"
    }
   ],
   "source": [
    "critical = chi2.ppf(0.95, dof)\n",
    "stat>=critical\n",
    "# Refuse H0 that they are not independent "
   ]
  },
  {
   "cell_type": "code",
   "execution_count": 17,
   "metadata": {},
   "outputs": [],
   "source": [
    "df2=df1[df1['Job Start Date']!='71/23/2002']\n"
   ]
  },
  {
   "cell_type": "code",
   "execution_count": 18,
   "metadata": {},
   "outputs": [],
   "source": [
    "lst_anomoly=[]\n",
    "lst=df1['Job Start Date']\n",
    "for i in lst[0:len(lst)]:\n",
    "    try:     \n",
    "        i=str(i)\n",
    "        p=i[0:4]\n",
    "        q=int(p)\n",
    "    except:\n",
    "        lst_anomoly.append(i)\n",
    "# Find Anomly in Job Start Date '71/23/2002', Discard this\n"
   ]
  },
  {
   "cell_type": "code",
   "execution_count": 76,
   "metadata": {},
   "outputs": [
    {
     "name": "stdout",
     "output_type": "stream",
     "text": [
      "0    2010-11-05T00:00:00\n",
      "1    2002-08-08T00:00:00\n",
      "2    2005-08-29T00:00:00\n",
      "3    1998-08-31T00:00:00\n",
      "4    2007-04-30T00:00:00\n",
      "5    1994-04-22T00:00:00\n",
      "6    2007-06-12T00:00:00\n",
      "7    2008-10-31T00:00:00\n",
      "8    2000-10-27T00:00:00\n",
      "9    2005-07-01T00:00:00\n",
      "Name: Job Start Date, dtype: object\n"
     ]
    }
   ],
   "source": [
    "#question 6\n",
    "import re\n",
    "def get_month(dfSeries):\n",
    "    lst=[]\n",
    "    for i in dfSeries:\n",
    "        i=str(i)\n",
    "        i=int(i[5:7])\n",
    "        lst.append(i)\n",
    "    lst=pd.Series(lst)\n",
    "    return lst\n",
    "df1=df[pd.isna(df['Job Start Date'])==False]\n",
    "# Test anomoly and discard it\n",
    "lst_anomoly=[]\n",
    "lst=df1['Job Start Date']\n",
    "for i in lst[0:len(lst)]:\n",
    "    try:     \n",
    "        i=str(i)\n",
    "        p=i[0:4]\n",
    "        q=int(p)\n",
    "    except:\n",
    "        lst_anomoly.append(i)\n",
    "df1.head()\n",
    "criterion=df1['Job Start Date'].isin(lst_anomoly)\n",
    "df1=df1[~criterion]\n",
    "lst=df1['Job Start Date']"
   ]
  },
  {
   "cell_type": "code",
   "execution_count": 79,
   "metadata": {},
   "outputs": [],
   "source": [
    "# attach 'Year' to the df\n",
    "lst1=[]\n",
    "for i in lst:\n",
    "    i=str(i)\n",
    "    i=i[0:4]\n",
    "    i=int(i)\n",
    "    lst1.append(i)\n",
    "df1['Year']=pd.Series(lst1)\n",
    "df1=df1[df1['Year']>=1990]\n",
    "df1=df1[df1['Year']<=2012]"
   ]
  },
  {
   "cell_type": "code",
   "execution_count": 93,
   "metadata": {},
   "outputs": [
    {
     "data": {
      "text/plain": [
       "Ratio    1990.0\n",
       "dtype: float64"
      ]
     },
     "execution_count": 93,
     "metadata": {},
     "output_type": "execute_result"
    }
   ],
   "source": [
    "# Group by years and calculate the ratio of summer vs winter\n",
    "lst_month=get_month(df1['Job Start Date'])\n",
    "df1['Month']=pd.Series(lst_month)\n",
    "df2=df1[['Job Start Date','Month','Year']]\n",
    "df2.head(20)\n",
    "grouped=df2.groupby('Year')\n",
    "lst_name=[]\n",
    "lst_ratio=[]\n",
    "for name,group in grouped:\n",
    "    summer=group[(group['Month']==7)|(group['Month']==8)].count()[0]\n",
    "    winter=group[(group['Month']==1)|(group['Month']==2)].count()[0]\n",
    "    ratio=summer/winter\n",
    "    lst_name.append(name)\n",
    "    lst_ratio.append(ratio)\n",
    "pd.DataFrame(lst_ratio,index=pd.Series(lst_name),columns=['Ratio']).idxmax()"
   ]
  },
  {
   "cell_type": "code",
   "execution_count": 103,
   "metadata": {},
   "outputs": [
    {
     "data": {
      "text/plain": [
       "Ratio    1.306174\n",
       "Name: 1990.0, dtype: float64"
      ]
     },
     "execution_count": 103,
     "metadata": {},
     "output_type": "execute_result"
    }
   ],
   "source": [
    "df4=pd.DataFrame(lst_ratio,index=pd.Series(lst_name),columns=['Ratio'])\n",
    "df4.loc[1990,]"
   ]
  },
  {
   "cell_type": "code",
   "execution_count": 51,
   "metadata": {},
   "outputs": [
    {
     "data": {
      "text/plain": [
       "False"
      ]
     },
     "execution_count": 51,
     "metadata": {},
     "output_type": "execute_result"
    }
   ],
   "source": [
    "import re\n",
    "a='00/30/1997' \n",
    "x=re.search(lst_anomoly[2],a)\n"
   ]
  },
  {
   "cell_type": "code",
   "execution_count": 41,
   "metadata": {},
   "outputs": [
    {
     "name": "stdout",
     "output_type": "stream",
     "text": [
      "None\n"
     ]
    }
   ],
   "source": [
    "print(x)"
   ]
  },
  {
   "cell_type": "code",
   "execution_count": null,
   "metadata": {},
   "outputs": [],
   "source": []
  }
 ],
 "metadata": {
  "kernelspec": {
   "display_name": "Python 3",
   "language": "python",
   "name": "python3"
  },
  "language_info": {
   "codemirror_mode": {
    "name": "ipython",
    "version": 3
   },
   "file_extension": ".py",
   "mimetype": "text/x-python",
   "name": "python",
   "nbconvert_exporter": "python",
   "pygments_lexer": "ipython3",
   "version": "3.8.3"
  }
 },
 "nbformat": 4,
 "nbformat_minor": 4
}
