{
 "cells": [
  {
   "cell_type": "code",
   "execution_count": 94,
   "metadata": {},
   "outputs": [],
   "source": [
    "import numpy as np\n",
    "import pandas as pd \n",
    "#output two vectors, one is the prob of a combination, the other is combination\n",
    "def get_df(n,p):\n",
    "    n_cases=2**n\n",
    "    lst_combination=[]\n",
    "    lst_prob=[]\n",
    "    for i in range(n_cases):\n",
    "        x=bin(i).replace('b','0') # convert into binary number with 0/1, 0=tails,1=heads\n",
    "        if len(x)<n:\n",
    "            x=x.zfill(n)\n",
    "        elif len(x)>n:\n",
    "            x=x[-n:len(x)]\n",
    "        n_heads=x.count('1')\n",
    "        n_tails=x.count('0')\n",
    "        prob=(p**n_heads)*((1-p)**n_tails)\n",
    "        lst_prob.append(prob)\n",
    "        lst_combination.append(x)\n",
    "    df=pd.DataFrame(columns=['Combination','Probability'])\n",
    "    df['Combination']=pd.Series(lst_combination)\n",
    "    df['Probability']=pd.Series(lst_prob)\n",
    "    return df"
   ]
  },
  {
   "cell_type": "code",
   "execution_count": 95,
   "metadata": {},
   "outputs": [],
   "source": [
    "df=get_df(5,0.5)"
   ]
  },
  {
   "cell_type": "code",
   "execution_count": 100,
   "metadata": {},
   "outputs": [
    {
     "data": {
      "text/html": [
       "<div>\n",
       "<style scoped>\n",
       "    .dataframe tbody tr th:only-of-type {\n",
       "        vertical-align: middle;\n",
       "    }\n",
       "\n",
       "    .dataframe tbody tr th {\n",
       "        vertical-align: top;\n",
       "    }\n",
       "\n",
       "    .dataframe thead th {\n",
       "        text-align: right;\n",
       "    }\n",
       "</style>\n",
       "<table border=\"1\" class=\"dataframe\">\n",
       "  <thead>\n",
       "    <tr style=\"text-align: right;\">\n",
       "      <th></th>\n",
       "      <th>Combination</th>\n",
       "      <th>Probability</th>\n",
       "      <th>Point</th>\n",
       "    </tr>\n",
       "  </thead>\n",
       "  <tbody>\n",
       "    <tr>\n",
       "      <th>0</th>\n",
       "      <td>00000</td>\n",
       "      <td>0.03125</td>\n",
       "      <td>0</td>\n",
       "    </tr>\n",
       "    <tr>\n",
       "      <th>1</th>\n",
       "      <td>00001</td>\n",
       "      <td>0.03125</td>\n",
       "      <td>1</td>\n",
       "    </tr>\n",
       "    <tr>\n",
       "      <th>2</th>\n",
       "      <td>00010</td>\n",
       "      <td>0.03125</td>\n",
       "      <td>2</td>\n",
       "    </tr>\n",
       "    <tr>\n",
       "      <th>3</th>\n",
       "      <td>00011</td>\n",
       "      <td>0.03125</td>\n",
       "      <td>2</td>\n",
       "    </tr>\n",
       "    <tr>\n",
       "      <th>4</th>\n",
       "      <td>00100</td>\n",
       "      <td>0.03125</td>\n",
       "      <td>4</td>\n",
       "    </tr>\n",
       "    <tr>\n",
       "      <th>5</th>\n",
       "      <td>00101</td>\n",
       "      <td>0.03125</td>\n",
       "      <td>3</td>\n",
       "    </tr>\n",
       "    <tr>\n",
       "      <th>6</th>\n",
       "      <td>00110</td>\n",
       "      <td>0.03125</td>\n",
       "      <td>4</td>\n",
       "    </tr>\n",
       "    <tr>\n",
       "      <th>7</th>\n",
       "      <td>00111</td>\n",
       "      <td>0.03125</td>\n",
       "      <td>3</td>\n",
       "    </tr>\n",
       "    <tr>\n",
       "      <th>8</th>\n",
       "      <td>01000</td>\n",
       "      <td>0.03125</td>\n",
       "      <td>8</td>\n",
       "    </tr>\n",
       "    <tr>\n",
       "      <th>9</th>\n",
       "      <td>01001</td>\n",
       "      <td>0.03125</td>\n",
       "      <td>5</td>\n",
       "    </tr>\n",
       "    <tr>\n",
       "      <th>10</th>\n",
       "      <td>01010</td>\n",
       "      <td>0.03125</td>\n",
       "      <td>6</td>\n",
       "    </tr>\n",
       "    <tr>\n",
       "      <th>11</th>\n",
       "      <td>01011</td>\n",
       "      <td>0.03125</td>\n",
       "      <td>4</td>\n",
       "    </tr>\n",
       "    <tr>\n",
       "      <th>12</th>\n",
       "      <td>01100</td>\n",
       "      <td>0.03125</td>\n",
       "      <td>8</td>\n",
       "    </tr>\n",
       "    <tr>\n",
       "      <th>13</th>\n",
       "      <td>01101</td>\n",
       "      <td>0.03125</td>\n",
       "      <td>5</td>\n",
       "    </tr>\n",
       "    <tr>\n",
       "      <th>14</th>\n",
       "      <td>01110</td>\n",
       "      <td>0.03125</td>\n",
       "      <td>6</td>\n",
       "    </tr>\n",
       "    <tr>\n",
       "      <th>15</th>\n",
       "      <td>01111</td>\n",
       "      <td>0.03125</td>\n",
       "      <td>4</td>\n",
       "    </tr>\n",
       "    <tr>\n",
       "      <th>16</th>\n",
       "      <td>10000</td>\n",
       "      <td>0.03125</td>\n",
       "      <td>16</td>\n",
       "    </tr>\n",
       "    <tr>\n",
       "      <th>17</th>\n",
       "      <td>10001</td>\n",
       "      <td>0.03125</td>\n",
       "      <td>9</td>\n",
       "    </tr>\n",
       "    <tr>\n",
       "      <th>18</th>\n",
       "      <td>10010</td>\n",
       "      <td>0.03125</td>\n",
       "      <td>10</td>\n",
       "    </tr>\n",
       "    <tr>\n",
       "      <th>19</th>\n",
       "      <td>10011</td>\n",
       "      <td>0.03125</td>\n",
       "      <td>6</td>\n",
       "    </tr>\n",
       "  </tbody>\n",
       "</table>\n",
       "</div>"
      ],
      "text/plain": [
       "   Combination  Probability  Point\n",
       "0        00000      0.03125      0\n",
       "1        00001      0.03125      1\n",
       "2        00010      0.03125      2\n",
       "3        00011      0.03125      2\n",
       "4        00100      0.03125      4\n",
       "5        00101      0.03125      3\n",
       "6        00110      0.03125      4\n",
       "7        00111      0.03125      3\n",
       "8        01000      0.03125      8\n",
       "9        01001      0.03125      5\n",
       "10       01010      0.03125      6\n",
       "11       01011      0.03125      4\n",
       "12       01100      0.03125      8\n",
       "13       01101      0.03125      5\n",
       "14       01110      0.03125      6\n",
       "15       01111      0.03125      4\n",
       "16       10000      0.03125     16\n",
       "17       10001      0.03125      9\n",
       "18       10010      0.03125     10\n",
       "19       10011      0.03125      6"
      ]
     },
     "execution_count": 100,
     "metadata": {},
     "output_type": "execute_result"
    }
   ],
   "source": [
    "df\n",
    "def get_point(string):\n",
    "    sum1=0\n",
    "    for i in string:\n",
    "        if i == '0':\n",
    "            sum1=sum1*2\n",
    "        else:\n",
    "            sum1+=1\n",
    "    return sum1\n",
    "lst_point=[]\n",
    "for string in df['Combination']:\n",
    "    point=get_point(string)\n",
    "    lst_point.append(point)\n",
    "df['Point']=pd.Series(lst_point)\n",
    "df.head(20)"
   ]
  },
  {
   "cell_type": "code",
   "execution_count": 114,
   "metadata": {},
   "outputs": [
    {
     "data": {
      "text/plain": [
       "6.59375"
      ]
     },
     "execution_count": 114,
     "metadata": {},
     "output_type": "execute_result"
    }
   ],
   "source": [
    "def exp(df):\n",
    "    vector_points=np.array(df['Point'])\n",
    "    vector_prob=np.array(df['Probability'])\n",
    "    exp=np.dot(vector_points,vector_prob)\n",
    "    return exp\n",
    "exp(df)"
   ]
  },
  {
   "cell_type": "code",
   "execution_count": 113,
   "metadata": {},
   "outputs": [
    {
     "data": {
      "text/plain": [
       "6.59375"
      ]
     },
     "execution_count": 113,
     "metadata": {},
     "output_type": "execute_result"
    }
   ],
   "source": [
    "vector_points=np.array(df['Point'])\n",
    "# vector_points=vector_points.reshape([-1,1])\n",
    "vector_prob=np.array(df['Probability'])\n",
    "np.dot(vector_points,vector_prob)"
   ]
  },
  {
   "cell_type": "code",
   "execution_count": 118,
   "metadata": {},
   "outputs": [
    {
     "data": {
      "text/plain": [
       "436.8938903808594"
      ]
     },
     "execution_count": 118,
     "metadata": {},
     "output_type": "execute_result"
    }
   ],
   "source": [
    "df1=get_df(15,0.5)\n",
    "lst_point=[]\n",
    "for string in df1['Combination']:\n",
    "    point=get_point(string)\n",
    "    lst_point.append(point)\n",
    "df1['Point']=pd.Series(lst_point)\n",
    "exp(df1)"
   ]
  },
  {
   "cell_type": "code",
   "execution_count": 154,
   "metadata": {},
   "outputs": [],
   "source": [
    "df_10flip=get_df(10,0.5)\n",
    "lst_point=[]\n",
    "for string in df_10flip['Combination']:\n",
    "    point=get_point(string)\n",
    "    lst_point.append(point)\n",
    "df_10flip['Point']=pd.Series(lst_point)\n",
    "df_10flip.describe()\n",
    "n_biggest=np.log2(df_10flip['Point'].max())\n",
    "n_array=np.arange(n_biggest+1)\n",
    "n_power2=2 ** n_array\n",
    "n_total=df_10flip.shape[0]\n",
    "n_prefered=df_10flip[(df_10flip['Point'].isin(n_power2)==True)].count()[0]\n",
    "prob1=n_prefered/n_total"
   ]
  },
  {
   "cell_type": "code",
   "execution_count": 159,
   "metadata": {},
   "outputs": [
    {
     "data": {
      "text/plain": [
       "2.5678298230217673"
      ]
     },
     "execution_count": 159,
     "metadata": {},
     "output_type": "execute_result"
    }
   ],
   "source": [
    "def std(df):\n",
    "    E=exp(df)\n",
    "    vector_prob=np.array(df['Probability'])\n",
    "    var=np.sum(E*vector_prob)\n",
    "    std=np.sqrt(var)\n",
    "    return std\n",
    "std(df_10flip)\n",
    "std(df1)\n",
    "std(df)"
   ]
  },
  {
   "cell_type": "code",
   "execution_count": 162,
   "metadata": {},
   "outputs": [
    {
     "data": {
      "text/plain": [
       "33.5154532676252"
      ]
     },
     "execution_count": 162,
     "metadata": {},
     "output_type": "execute_result"
    }
   ],
   "source": [
    "df2=get_df(10,2/3)\n",
    "lst_point=[]\n",
    "for string in df2['Combination']:\n",
    "    point=get_point(string)\n",
    "    lst_point.append(point)\n",
    "df2['Point']=pd.Series(lst_point)\n",
    "exp(df2)"
   ]
  },
  {
   "cell_type": "code",
   "execution_count": 175,
   "metadata": {},
   "outputs": [
    {
     "name": "stdout",
     "output_type": "stream",
     "text": [
      "89.85213802726498 0.23\n"
     ]
    }
   ],
   "source": [
    "# Because this is a symetric game and we search from 0 to 0.5 with 0.01 as our gap\n",
    "sample_space=np.arange(0,0.5,0.01)\n",
    "exp_max=0\n",
    "for prob in sample_space:\n",
    "    df_new=get_df(10,prob)\n",
    "    lst_point=[]\n",
    "    for string in df_new['Combination']:\n",
    "        point=get_point(string)\n",
    "        lst_point.append(point)\n",
    "    df_new['Point']=pd.Series(lst_point)\n",
    "    exp1=exp(df_new)\n",
    "    if exp1 >exp_max:\n",
    "        exp_max=exp1\n",
    "        prob_optimize=float(prob)\n",
    "    else: continue\n",
    "print(exp_max,prob_optimize)"
   ]
  },
  {
   "cell_type": "code",
   "execution_count": 172,
   "metadata": {},
   "outputs": [
    {
     "data": {
      "text/html": [
       "<div>\n",
       "<style scoped>\n",
       "    .dataframe tbody tr th:only-of-type {\n",
       "        vertical-align: middle;\n",
       "    }\n",
       "\n",
       "    .dataframe tbody tr th {\n",
       "        vertical-align: top;\n",
       "    }\n",
       "\n",
       "    .dataframe thead th {\n",
       "        text-align: right;\n",
       "    }\n",
       "</style>\n",
       "<table border=\"1\" class=\"dataframe\">\n",
       "  <thead>\n",
       "    <tr style=\"text-align: right;\">\n",
       "      <th></th>\n",
       "      <th>Combination</th>\n",
       "      <th>Probability</th>\n",
       "      <th>Point</th>\n",
       "    </tr>\n",
       "  </thead>\n",
       "  <tbody>\n",
       "    <tr>\n",
       "      <th>0</th>\n",
       "      <td>0000000000</td>\n",
       "      <td>0.000977</td>\n",
       "      <td>0</td>\n",
       "    </tr>\n",
       "    <tr>\n",
       "      <th>1</th>\n",
       "      <td>0000000001</td>\n",
       "      <td>0.000977</td>\n",
       "      <td>1</td>\n",
       "    </tr>\n",
       "    <tr>\n",
       "      <th>2</th>\n",
       "      <td>0000000010</td>\n",
       "      <td>0.000977</td>\n",
       "      <td>2</td>\n",
       "    </tr>\n",
       "    <tr>\n",
       "      <th>3</th>\n",
       "      <td>0000000011</td>\n",
       "      <td>0.000977</td>\n",
       "      <td>2</td>\n",
       "    </tr>\n",
       "    <tr>\n",
       "      <th>4</th>\n",
       "      <td>0000000100</td>\n",
       "      <td>0.000977</td>\n",
       "      <td>4</td>\n",
       "    </tr>\n",
       "    <tr>\n",
       "      <th>...</th>\n",
       "      <td>...</td>\n",
       "      <td>...</td>\n",
       "      <td>...</td>\n",
       "    </tr>\n",
       "    <tr>\n",
       "      <th>1019</th>\n",
       "      <td>1111111011</td>\n",
       "      <td>0.000977</td>\n",
       "      <td>16</td>\n",
       "    </tr>\n",
       "    <tr>\n",
       "      <th>1020</th>\n",
       "      <td>1111111100</td>\n",
       "      <td>0.000977</td>\n",
       "      <td>32</td>\n",
       "    </tr>\n",
       "    <tr>\n",
       "      <th>1021</th>\n",
       "      <td>1111111101</td>\n",
       "      <td>0.000977</td>\n",
       "      <td>17</td>\n",
       "    </tr>\n",
       "    <tr>\n",
       "      <th>1022</th>\n",
       "      <td>1111111110</td>\n",
       "      <td>0.000977</td>\n",
       "      <td>18</td>\n",
       "    </tr>\n",
       "    <tr>\n",
       "      <th>1023</th>\n",
       "      <td>1111111111</td>\n",
       "      <td>0.000977</td>\n",
       "      <td>10</td>\n",
       "    </tr>\n",
       "  </tbody>\n",
       "</table>\n",
       "<p>1024 rows × 3 columns</p>\n",
       "</div>"
      ],
      "text/plain": [
       "     Combination  Probability  Point\n",
       "0     0000000000     0.000977      0\n",
       "1     0000000001     0.000977      1\n",
       "2     0000000010     0.000977      2\n",
       "3     0000000011     0.000977      2\n",
       "4     0000000100     0.000977      4\n",
       "...          ...          ...    ...\n",
       "1019  1111111011     0.000977     16\n",
       "1020  1111111100     0.000977     32\n",
       "1021  1111111101     0.000977     17\n",
       "1022  1111111110     0.000977     18\n",
       "1023  1111111111     0.000977     10\n",
       "\n",
       "[1024 rows x 3 columns]"
      ]
     },
     "execution_count": 172,
     "metadata": {},
     "output_type": "execute_result"
    }
   ],
   "source": [
    "df_10flip"
   ]
  },
  {
   "cell_type": "code",
   "execution_count": null,
   "metadata": {},
   "outputs": [],
   "source": []
  }
 ],
 "metadata": {
  "kernelspec": {
   "display_name": "Python 3",
   "language": "python",
   "name": "python3"
  },
  "language_info": {
   "codemirror_mode": {
    "name": "ipython",
    "version": 3
   },
   "file_extension": ".py",
   "mimetype": "text/x-python",
   "name": "python",
   "nbconvert_exporter": "python",
   "pygments_lexer": "ipython3",
   "version": "3.8.3"
  }
 },
 "nbformat": 4,
 "nbformat_minor": 4
}
