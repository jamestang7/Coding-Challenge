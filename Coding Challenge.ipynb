{
 "cells": [
  {
   "cell_type": "code",
   "execution_count": 1,
   "metadata": {},
   "outputs": [
    {
     "name": "stdout",
     "output_type": "stream",
     "text": [
      "Requirement already satisfied: plotly in /Users/jamestang1/opt/anaconda3/lib/python3.8/site-packages (4.11.0)\n",
      "Requirement already satisfied: retrying>=1.3.3 in /Users/jamestang1/opt/anaconda3/lib/python3.8/site-packages (from plotly) (1.3.3)\n",
      "Requirement already satisfied: six in /Users/jamestang1/opt/anaconda3/lib/python3.8/site-packages (from plotly) (1.15.0)\n",
      "Requirement already satisfied: pyshp in /Users/jamestang1/opt/anaconda3/lib/python3.8/site-packages (1.2.10)\n",
      "Requirement already satisfied: shapely in /Users/jamestang1/opt/anaconda3/lib/python3.8/site-packages (1.7.1)\n"
     ]
    }
   ],
   "source": [
    "import pandas as pd \n",
    "import numpy as np \n",
    "import re\n",
    "import more_itertools as mit\n",
    "import re\n",
    "import sklearn\n",
    "from sklearn.preprocessing import StandardScaler\n",
    "from sklearn.decomposition import PCA\n",
    "import matplotlib\n",
    "import matplotlib.pyplot as plt\n",
    "import seaborn as sns; sns.set()\n",
    "import sys\n",
    "!{sys.executable} -m pip install plotly\n",
    "!{sys.executable} -m pip install pyshp\n",
    "!{sys.executable} -m pip install shapely\n",
    "import plotly\n",
    "import plotly.graph_objects as go"
   ]
  },
  {
   "cell_type": "code",
   "execution_count": 5,
   "metadata": {},
   "outputs": [
    {
     "data": {
      "text/html": [
       "<div>\n",
       "<style scoped>\n",
       "    .dataframe tbody tr th:only-of-type {\n",
       "        vertical-align: middle;\n",
       "    }\n",
       "\n",
       "    .dataframe tbody tr th {\n",
       "        vertical-align: top;\n",
       "    }\n",
       "\n",
       "    .dataframe thead th {\n",
       "        text-align: right;\n",
       "    }\n",
       "</style>\n",
       "<table border=\"1\" class=\"dataframe\">\n",
       "  <thead>\n",
       "    <tr style=\"text-align: right;\">\n",
       "      <th></th>\n",
       "      <th>Victim's name</th>\n",
       "      <th>Victim's age</th>\n",
       "      <th>Victim's gender</th>\n",
       "      <th>Victim's race</th>\n",
       "      <th>URL of image of victim</th>\n",
       "      <th>Date of Incident (month/day/year)</th>\n",
       "      <th>Street Address of Incident</th>\n",
       "      <th>City</th>\n",
       "      <th>State</th>\n",
       "      <th>Zipcode</th>\n",
       "      <th>...</th>\n",
       "      <th>Unarmed/Did Not Have an Actual Weapon</th>\n",
       "      <th>Alleged Weapon (Source: WaPo and Review of Cases Not Included in WaPo Database)</th>\n",
       "      <th>Alleged Threat Level (Source: WaPo)</th>\n",
       "      <th>Fleeing (Source: WaPo)</th>\n",
       "      <th>Body Camera (Source: WaPo)</th>\n",
       "      <th>WaPo ID (If included in WaPo database)</th>\n",
       "      <th>Off-Duty Killing?</th>\n",
       "      <th>Geography (via Trulia methodology based on zipcode population density: http://jedkolko.com/wp-content/uploads/2015/05/full-ZCTA-urban-suburban-rural-classification.xlsx )</th>\n",
       "      <th>MPV ID</th>\n",
       "      <th>Fatal Encounters ID</th>\n",
       "    </tr>\n",
       "  </thead>\n",
       "  <tbody>\n",
       "    <tr>\n",
       "      <th>0</th>\n",
       "      <td>Christopher Ulmer</td>\n",
       "      <td>30</td>\n",
       "      <td>Male</td>\n",
       "      <td>Unknown race</td>\n",
       "      <td>NaN</td>\n",
       "      <td>2020-10-04</td>\n",
       "      <td>I-805</td>\n",
       "      <td>Chula Vista</td>\n",
       "      <td>CA</td>\n",
       "      <td>91911.0</td>\n",
       "      <td>...</td>\n",
       "      <td>Unclear</td>\n",
       "      <td>undetermined</td>\n",
       "      <td>other</td>\n",
       "      <td>Car</td>\n",
       "      <td>No</td>\n",
       "      <td>6206.0</td>\n",
       "      <td>NaN</td>\n",
       "      <td>Suburban</td>\n",
       "      <td>8511</td>\n",
       "      <td>28894.0</td>\n",
       "    </tr>\n",
       "    <tr>\n",
       "      <th>1</th>\n",
       "      <td>Jonathan Price</td>\n",
       "      <td>31</td>\n",
       "      <td>Male</td>\n",
       "      <td>Black</td>\n",
       "      <td>https://fatalencounters.org/wp-content/uploads...</td>\n",
       "      <td>2020-10-03</td>\n",
       "      <td>103 Santa Fe St.</td>\n",
       "      <td>Wolfe City</td>\n",
       "      <td>TX</td>\n",
       "      <td>75496.0</td>\n",
       "      <td>...</td>\n",
       "      <td>Unarmed/Did Not Have an Actual Weapon</td>\n",
       "      <td>no object</td>\n",
       "      <td>undetermined</td>\n",
       "      <td>Not Fleeing</td>\n",
       "      <td>No</td>\n",
       "      <td>6204.0</td>\n",
       "      <td>NaN</td>\n",
       "      <td>Rural</td>\n",
       "      <td>8510</td>\n",
       "      <td>28893.0</td>\n",
       "    </tr>\n",
       "    <tr>\n",
       "      <th>2</th>\n",
       "      <td>John Aycoth</td>\n",
       "      <td>20</td>\n",
       "      <td>Male</td>\n",
       "      <td>Unknown race</td>\n",
       "      <td>NaN</td>\n",
       "      <td>2020-10-03</td>\n",
       "      <td>400 14th Ave. South</td>\n",
       "      <td>Myrtle Beach</td>\n",
       "      <td>SC</td>\n",
       "      <td>29577.0</td>\n",
       "      <td>...</td>\n",
       "      <td>Unclear</td>\n",
       "      <td>undetermined</td>\n",
       "      <td>attack</td>\n",
       "      <td>NaN</td>\n",
       "      <td>No</td>\n",
       "      <td>6205.0</td>\n",
       "      <td>NaN</td>\n",
       "      <td>Urban</td>\n",
       "      <td>8509</td>\n",
       "      <td>28890.0</td>\n",
       "    </tr>\n",
       "    <tr>\n",
       "      <th>3</th>\n",
       "      <td>James Edward Baker</td>\n",
       "      <td>38</td>\n",
       "      <td>Male</td>\n",
       "      <td>White</td>\n",
       "      <td>https://fatalencounters.org/wp-content/uploads...</td>\n",
       "      <td>2020-10-02</td>\n",
       "      <td>2000 Aenon Church Road</td>\n",
       "      <td>Tallahassee</td>\n",
       "      <td>FL</td>\n",
       "      <td>32310.0</td>\n",
       "      <td>...</td>\n",
       "      <td>Allegedly Armed</td>\n",
       "      <td>gun</td>\n",
       "      <td>attack</td>\n",
       "      <td>Not fleeing</td>\n",
       "      <td>No</td>\n",
       "      <td>6207.0</td>\n",
       "      <td>NaN</td>\n",
       "      <td>Suburban</td>\n",
       "      <td>8508</td>\n",
       "      <td>28896.0</td>\n",
       "    </tr>\n",
       "    <tr>\n",
       "      <th>4</th>\n",
       "      <td>Mickel Erich Lewis Sr.</td>\n",
       "      <td>39</td>\n",
       "      <td>Male</td>\n",
       "      <td>Unknown race</td>\n",
       "      <td>NaN</td>\n",
       "      <td>2020-10-02</td>\n",
       "      <td>K Street and Mono Street</td>\n",
       "      <td>Mojave</td>\n",
       "      <td>CA</td>\n",
       "      <td>93501.0</td>\n",
       "      <td>...</td>\n",
       "      <td>Unclear</td>\n",
       "      <td>undetermined</td>\n",
       "      <td>other</td>\n",
       "      <td>Foot</td>\n",
       "      <td>No</td>\n",
       "      <td>6208.0</td>\n",
       "      <td>NaN</td>\n",
       "      <td>Rural</td>\n",
       "      <td>8507</td>\n",
       "      <td>28885.0</td>\n",
       "    </tr>\n",
       "    <tr>\n",
       "      <th>...</th>\n",
       "      <td>...</td>\n",
       "      <td>...</td>\n",
       "      <td>...</td>\n",
       "      <td>...</td>\n",
       "      <td>...</td>\n",
       "      <td>...</td>\n",
       "      <td>...</td>\n",
       "      <td>...</td>\n",
       "      <td>...</td>\n",
       "      <td>...</td>\n",
       "      <td>...</td>\n",
       "      <td>...</td>\n",
       "      <td>...</td>\n",
       "      <td>...</td>\n",
       "      <td>...</td>\n",
       "      <td>...</td>\n",
       "      <td>...</td>\n",
       "      <td>...</td>\n",
       "      <td>...</td>\n",
       "      <td>...</td>\n",
       "      <td>...</td>\n",
       "    </tr>\n",
       "    <tr>\n",
       "      <th>95</th>\n",
       "      <td>Cesar Sanchez Ruiz</td>\n",
       "      <td>36</td>\n",
       "      <td>Male</td>\n",
       "      <td>Hispanic</td>\n",
       "      <td>NaN</td>\n",
       "      <td>2020-08-20</td>\n",
       "      <td>10701 CA-178</td>\n",
       "      <td>Bakersfield</td>\n",
       "      <td>CA</td>\n",
       "      <td>93306.0</td>\n",
       "      <td>...</td>\n",
       "      <td>Allegedly Armed</td>\n",
       "      <td>gun</td>\n",
       "      <td>attack</td>\n",
       "      <td>NaN</td>\n",
       "      <td>NaN</td>\n",
       "      <td>NaN</td>\n",
       "      <td>off-duty</td>\n",
       "      <td>Suburban</td>\n",
       "      <td>8410</td>\n",
       "      <td>20536.0</td>\n",
       "    </tr>\n",
       "    <tr>\n",
       "      <th>96</th>\n",
       "      <td>Name withheld by police</td>\n",
       "      <td>Unknown</td>\n",
       "      <td>Male</td>\n",
       "      <td>Unknown race</td>\n",
       "      <td>NaN</td>\n",
       "      <td>2020-08-20</td>\n",
       "      <td>15301 Peach Orchard Road</td>\n",
       "      <td>Brooksville</td>\n",
       "      <td>FL</td>\n",
       "      <td>34614.0</td>\n",
       "      <td>...</td>\n",
       "      <td>Allegedly Armed</td>\n",
       "      <td>gun</td>\n",
       "      <td>attack</td>\n",
       "      <td>NaN</td>\n",
       "      <td>No</td>\n",
       "      <td>6102.0</td>\n",
       "      <td>NaN</td>\n",
       "      <td>Rural</td>\n",
       "      <td>8408</td>\n",
       "      <td>NaN</td>\n",
       "    </tr>\n",
       "    <tr>\n",
       "      <th>97</th>\n",
       "      <td>Shiloh D. Smith</td>\n",
       "      <td>35</td>\n",
       "      <td>Male</td>\n",
       "      <td>White</td>\n",
       "      <td>https://fatalencounters.org/wp-content/uploads...</td>\n",
       "      <td>2020-08-20</td>\n",
       "      <td>MO-31 and Fairmont Road</td>\n",
       "      <td>Amity</td>\n",
       "      <td>MO</td>\n",
       "      <td>64422.0</td>\n",
       "      <td>...</td>\n",
       "      <td>Allegedly Armed</td>\n",
       "      <td>gun</td>\n",
       "      <td>attack</td>\n",
       "      <td>Car</td>\n",
       "      <td>NaN</td>\n",
       "      <td>NaN</td>\n",
       "      <td>NaN</td>\n",
       "      <td>Rural</td>\n",
       "      <td>8412</td>\n",
       "      <td>NaN</td>\n",
       "    </tr>\n",
       "    <tr>\n",
       "      <th>98</th>\n",
       "      <td>Jeffrey Wratten</td>\n",
       "      <td>37</td>\n",
       "      <td>Male</td>\n",
       "      <td>White</td>\n",
       "      <td>NaN</td>\n",
       "      <td>2020-08-20</td>\n",
       "      <td>AR-5 and Magness Creek Dr</td>\n",
       "      <td>Cabot</td>\n",
       "      <td>AR</td>\n",
       "      <td>72023.0</td>\n",
       "      <td>...</td>\n",
       "      <td>Allegedly Armed</td>\n",
       "      <td>gun</td>\n",
       "      <td>undetermined</td>\n",
       "      <td>NaN</td>\n",
       "      <td>No</td>\n",
       "      <td>6101.0</td>\n",
       "      <td>NaN</td>\n",
       "      <td>Suburban</td>\n",
       "      <td>8411</td>\n",
       "      <td>NaN</td>\n",
       "    </tr>\n",
       "    <tr>\n",
       "      <th>99</th>\n",
       "      <td>Nathan Harrington</td>\n",
       "      <td>43</td>\n",
       "      <td>Male</td>\n",
       "      <td>White</td>\n",
       "      <td>https://fatalencounters.org/wp-content/uploads...</td>\n",
       "      <td>2020-08-20</td>\n",
       "      <td>23628 Ranch to Market Rd 150</td>\n",
       "      <td>Driftwood</td>\n",
       "      <td>TX</td>\n",
       "      <td>78619.0</td>\n",
       "      <td>...</td>\n",
       "      <td>Allegedly Armed</td>\n",
       "      <td>gun</td>\n",
       "      <td>attack</td>\n",
       "      <td>Car</td>\n",
       "      <td>No</td>\n",
       "      <td>6100.0</td>\n",
       "      <td>NaN</td>\n",
       "      <td>Rural</td>\n",
       "      <td>8409</td>\n",
       "      <td>NaN</td>\n",
       "    </tr>\n",
       "  </tbody>\n",
       "</table>\n",
       "<p>100 rows × 29 columns</p>\n",
       "</div>"
      ],
      "text/plain": [
       "              Victim's name Victim's age Victim's gender Victim's race  \\\n",
       "0         Christopher Ulmer           30            Male  Unknown race   \n",
       "1            Jonathan Price           31            Male         Black   \n",
       "2               John Aycoth           20            Male  Unknown race   \n",
       "3        James Edward Baker           38            Male         White   \n",
       "4    Mickel Erich Lewis Sr.           39           Male   Unknown race   \n",
       "..                      ...          ...             ...           ...   \n",
       "95       Cesar Sanchez Ruiz           36            Male      Hispanic   \n",
       "96  Name withheld by police      Unknown            Male  Unknown race   \n",
       "97          Shiloh D. Smith           35            Male         White   \n",
       "98          Jeffrey Wratten           37            Male         White   \n",
       "99        Nathan Harrington           43            Male         White   \n",
       "\n",
       "                               URL of image of victim  \\\n",
       "0                                                 NaN   \n",
       "1   https://fatalencounters.org/wp-content/uploads...   \n",
       "2                                                 NaN   \n",
       "3   https://fatalencounters.org/wp-content/uploads...   \n",
       "4                                                 NaN   \n",
       "..                                                ...   \n",
       "95                                                NaN   \n",
       "96                                                NaN   \n",
       "97  https://fatalencounters.org/wp-content/uploads...   \n",
       "98                                                NaN   \n",
       "99  https://fatalencounters.org/wp-content/uploads...   \n",
       "\n",
       "   Date of Incident (month/day/year)    Street Address of Incident  \\\n",
       "0                         2020-10-04                         I-805   \n",
       "1                         2020-10-03              103 Santa Fe St.   \n",
       "2                         2020-10-03           400 14th Ave. South   \n",
       "3                         2020-10-02        2000 Aenon Church Road   \n",
       "4                         2020-10-02      K Street and Mono Street   \n",
       "..                               ...                           ...   \n",
       "95                        2020-08-20                  10701 CA-178   \n",
       "96                        2020-08-20      15301 Peach Orchard Road   \n",
       "97                        2020-08-20       MO-31 and Fairmont Road   \n",
       "98                        2020-08-20     AR-5 and Magness Creek Dr   \n",
       "99                        2020-08-20  23628 Ranch to Market Rd 150   \n",
       "\n",
       "            City State  Zipcode  ...  Unarmed/Did Not Have an Actual Weapon  \\\n",
       "0    Chula Vista    CA  91911.0  ...                                Unclear   \n",
       "1     Wolfe City    TX  75496.0  ...  Unarmed/Did Not Have an Actual Weapon   \n",
       "2   Myrtle Beach    SC  29577.0  ...                                Unclear   \n",
       "3    Tallahassee    FL  32310.0  ...                        Allegedly Armed   \n",
       "4         Mojave    CA  93501.0  ...                                Unclear   \n",
       "..           ...   ...      ...  ...                                    ...   \n",
       "95   Bakersfield    CA  93306.0  ...                        Allegedly Armed   \n",
       "96   Brooksville    FL  34614.0  ...                        Allegedly Armed   \n",
       "97         Amity    MO  64422.0  ...                        Allegedly Armed   \n",
       "98         Cabot    AR  72023.0  ...                        Allegedly Armed   \n",
       "99     Driftwood    TX  78619.0  ...                        Allegedly Armed   \n",
       "\n",
       "   Alleged Weapon (Source: WaPo and Review of Cases Not Included in WaPo Database)  \\\n",
       "0                                        undetermined                                \n",
       "1                                           no object                                \n",
       "2                                        undetermined                                \n",
       "3                                                 gun                                \n",
       "4                                        undetermined                                \n",
       "..                                                ...                                \n",
       "95                                                gun                                \n",
       "96                                                gun                                \n",
       "97                                                gun                                \n",
       "98                                                gun                                \n",
       "99                                                gun                                \n",
       "\n",
       "   Alleged Threat Level (Source: WaPo) Fleeing (Source: WaPo)  \\\n",
       "0                                other                    Car   \n",
       "1                         undetermined            Not Fleeing   \n",
       "2                               attack                    NaN   \n",
       "3                               attack            Not fleeing   \n",
       "4                                other                   Foot   \n",
       "..                                 ...                    ...   \n",
       "95                              attack                    NaN   \n",
       "96                              attack                    NaN   \n",
       "97                              attack                    Car   \n",
       "98                        undetermined                    NaN   \n",
       "99                              attack                    Car   \n",
       "\n",
       "   Body Camera (Source: WaPo) WaPo ID (If included in WaPo database)  \\\n",
       "0                          No                                 6206.0   \n",
       "1                          No                                 6204.0   \n",
       "2                          No                                 6205.0   \n",
       "3                          No                                 6207.0   \n",
       "4                          No                                 6208.0   \n",
       "..                        ...                                    ...   \n",
       "95                        NaN                                    NaN   \n",
       "96                         No                                 6102.0   \n",
       "97                        NaN                                    NaN   \n",
       "98                         No                                 6101.0   \n",
       "99                         No                                 6100.0   \n",
       "\n",
       "   Off-Duty Killing?  \\\n",
       "0                NaN   \n",
       "1                NaN   \n",
       "2                NaN   \n",
       "3                NaN   \n",
       "4                NaN   \n",
       "..               ...   \n",
       "95          off-duty   \n",
       "96               NaN   \n",
       "97               NaN   \n",
       "98               NaN   \n",
       "99               NaN   \n",
       "\n",
       "   Geography (via Trulia methodology based on zipcode population density: http://jedkolko.com/wp-content/uploads/2015/05/full-ZCTA-urban-suburban-rural-classification.xlsx )  \\\n",
       "0                                            Suburban                                                                                                                           \n",
       "1                                               Rural                                                                                                                           \n",
       "2                                               Urban                                                                                                                           \n",
       "3                                            Suburban                                                                                                                           \n",
       "4                                               Rural                                                                                                                           \n",
       "..                                                ...                                                                                                                           \n",
       "95                                           Suburban                                                                                                                           \n",
       "96                                              Rural                                                                                                                           \n",
       "97                                              Rural                                                                                                                           \n",
       "98                                           Suburban                                                                                                                           \n",
       "99                                              Rural                                                                                                                           \n",
       "\n",
       "   MPV ID Fatal Encounters ID  \n",
       "0    8511             28894.0  \n",
       "1    8510             28893.0  \n",
       "2    8509             28890.0  \n",
       "3    8508             28896.0  \n",
       "4    8507             28885.0  \n",
       "..    ...                 ...  \n",
       "95   8410             20536.0  \n",
       "96   8408                 NaN  \n",
       "97   8412                 NaN  \n",
       "98   8411                 NaN  \n",
       "99   8409                 NaN  \n",
       "\n",
       "[100 rows x 29 columns]"
      ]
     },
     "execution_count": 5,
     "metadata": {},
     "output_type": "execute_result"
    }
   ],
   "source": [
    "from urllib.request import urlopen\n",
    "import json\n",
    "#with urlopen('https://github.com/jamestang7/Coding-Challenge/blob/main/MPVDatasetDownload.xlsx') as response:\n",
    "#     counties = json.load(response)\n",
    "file='https://mappingpoliceviolence.org/s/MPVDatasetDownload.xlsx'\n",
    "df=pd.read_excel(file)\n",
    "df.head(100)"
   ]
  },
  {
   "cell_type": "code",
   "execution_count": 6,
   "metadata": {},
   "outputs": [
    {
     "data": {
      "text/html": [
       "<div>\n",
       "<style scoped>\n",
       "    .dataframe tbody tr th:only-of-type {\n",
       "        vertical-align: middle;\n",
       "    }\n",
       "\n",
       "    .dataframe tbody tr th {\n",
       "        vertical-align: top;\n",
       "    }\n",
       "\n",
       "    .dataframe thead th {\n",
       "        text-align: right;\n",
       "    }\n",
       "</style>\n",
       "<table border=\"1\" class=\"dataframe\">\n",
       "  <thead>\n",
       "    <tr style=\"text-align: right;\">\n",
       "      <th></th>\n",
       "      <th>NA rate(%)</th>\n",
       "    </tr>\n",
       "  </thead>\n",
       "  <tbody>\n",
       "    <tr>\n",
       "      <th>Victim's name</th>\n",
       "      <td>0.00</td>\n",
       "    </tr>\n",
       "    <tr>\n",
       "      <th>Victim's age</th>\n",
       "      <td>0.13</td>\n",
       "    </tr>\n",
       "    <tr>\n",
       "      <th>Victim's gender</th>\n",
       "      <td>0.15</td>\n",
       "    </tr>\n",
       "    <tr>\n",
       "      <th>Victim's race</th>\n",
       "      <td>10.10</td>\n",
       "    </tr>\n",
       "    <tr>\n",
       "      <th>URL of image of victim</th>\n",
       "      <td>46.22</td>\n",
       "    </tr>\n",
       "    <tr>\n",
       "      <th>Date of Incident (month/day/year)</th>\n",
       "      <td>0.00</td>\n",
       "    </tr>\n",
       "    <tr>\n",
       "      <th>Street Address of Incident</th>\n",
       "      <td>1.05</td>\n",
       "    </tr>\n",
       "    <tr>\n",
       "      <th>City</th>\n",
       "      <td>0.07</td>\n",
       "    </tr>\n",
       "    <tr>\n",
       "      <th>State</th>\n",
       "      <td>0.00</td>\n",
       "    </tr>\n",
       "    <tr>\n",
       "      <th>Zipcode</th>\n",
       "      <td>0.42</td>\n",
       "    </tr>\n",
       "    <tr>\n",
       "      <th>County</th>\n",
       "      <td>0.16</td>\n",
       "    </tr>\n",
       "    <tr>\n",
       "      <th>Agency responsible for death</th>\n",
       "      <td>0.18</td>\n",
       "    </tr>\n",
       "    <tr>\n",
       "      <th>ORI Agency Identifier (if available)</th>\n",
       "      <td>0.01</td>\n",
       "    </tr>\n",
       "    <tr>\n",
       "      <th>Cause of death</th>\n",
       "      <td>0.00</td>\n",
       "    </tr>\n",
       "    <tr>\n",
       "      <th>A brief description of the circumstances surrounding the death</th>\n",
       "      <td>0.20</td>\n",
       "    </tr>\n",
       "    <tr>\n",
       "      <th>Official disposition of death (justified or other)</th>\n",
       "      <td>0.13</td>\n",
       "    </tr>\n",
       "    <tr>\n",
       "      <th>Criminal Charges?</th>\n",
       "      <td>0.00</td>\n",
       "    </tr>\n",
       "    <tr>\n",
       "      <th>Link to news article or photo of official document</th>\n",
       "      <td>0.13</td>\n",
       "    </tr>\n",
       "    <tr>\n",
       "      <th>Symptoms of mental illness?</th>\n",
       "      <td>0.11</td>\n",
       "    </tr>\n",
       "    <tr>\n",
       "      <th>Unarmed/Did Not Have an Actual Weapon</th>\n",
       "      <td>0.00</td>\n",
       "    </tr>\n",
       "    <tr>\n",
       "      <th>Alleged Weapon</th>\n",
       "      <td>0.01</td>\n",
       "    </tr>\n",
       "    <tr>\n",
       "      <th>Alleged Threat Level (Source: WaPo)</th>\n",
       "      <td>28.86</td>\n",
       "    </tr>\n",
       "    <tr>\n",
       "      <th>Fleeing (Source: WaPo)</th>\n",
       "      <td>34.04</td>\n",
       "    </tr>\n",
       "    <tr>\n",
       "      <th>Body Camera (Source: WaPo)</th>\n",
       "      <td>35.29</td>\n",
       "    </tr>\n",
       "    <tr>\n",
       "      <th>WaPo ID (If included in WaPo database)</th>\n",
       "      <td>34.33</td>\n",
       "    </tr>\n",
       "    <tr>\n",
       "      <th>Off-Duty Killing?</th>\n",
       "      <td>97.18</td>\n",
       "    </tr>\n",
       "    <tr>\n",
       "      <th>Geographical location</th>\n",
       "      <td>0.02</td>\n",
       "    </tr>\n",
       "    <tr>\n",
       "      <th>MPV ID</th>\n",
       "      <td>0.00</td>\n",
       "    </tr>\n",
       "    <tr>\n",
       "      <th>Fatal Encounters ID</th>\n",
       "      <td>0.99</td>\n",
       "    </tr>\n",
       "  </tbody>\n",
       "</table>\n",
       "</div>"
      ],
      "text/plain": [
       "                                                    NA rate(%)\n",
       "Victim's name                                             0.00\n",
       "Victim's age                                              0.13\n",
       "Victim's gender                                           0.15\n",
       "Victim's race                                            10.10\n",
       "URL of image of victim                                   46.22\n",
       "Date of Incident (month/day/year)                         0.00\n",
       "Street Address of Incident                                1.05\n",
       "City                                                      0.07\n",
       "State                                                     0.00\n",
       "Zipcode                                                   0.42\n",
       "County                                                    0.16\n",
       "Agency responsible for death                              0.18\n",
       "ORI Agency Identifier (if available)                      0.01\n",
       "Cause of death                                            0.00\n",
       "A brief description of the circumstances surrou...        0.20\n",
       "Official disposition of death (justified or other)        0.13\n",
       "Criminal Charges?                                         0.00\n",
       "Link to news article or photo of official document        0.13\n",
       "Symptoms of mental illness?                               0.11\n",
       "Unarmed/Did Not Have an Actual Weapon                     0.00\n",
       "Alleged Weapon                                            0.01\n",
       "Alleged Threat Level (Source: WaPo)                      28.86\n",
       "Fleeing (Source: WaPo)                                   34.04\n",
       "Body Camera (Source: WaPo)                               35.29\n",
       "WaPo ID (If included in WaPo database)                   34.33\n",
       "Off-Duty Killing?                                        97.18\n",
       "Geographical location                                     0.02\n",
       "MPV ID                                                    0.00\n",
       "Fatal Encounters ID                                       0.99"
      ]
     },
     "execution_count": 6,
     "metadata": {},
     "output_type": "execute_result"
    }
   ],
   "source": [
    "# Cleaning NaN data\n",
    "nan=df.iloc[0,3]\n",
    "def NA_portion(list):\n",
    "    rate=0\n",
    "    for i in list:\n",
    "        if pd.isna(i)== False and i!=nan:\n",
    "            continue\n",
    "        else:\n",
    "            rate+=1\n",
    "    total=len(list)\n",
    "    return round(rate/total*100,ndigits=2)\n",
    "lst=[]\n",
    "for col in list(df.columns):\n",
    "    rate=NA_portion(df[col])\n",
    "    lst.append(rate)\n",
    "# Truncate column names\n",
    "col=list(df.columns)\n",
    "col[-3],col[-9]='Geographical location','Alleged Weapon'\n",
    "pd.DataFrame(lst,index=col,columns=['NA rate(%)'])"
   ]
  },
  {
   "cell_type": "code",
   "execution_count": 16,
   "metadata": {},
   "outputs": [
    {
     "data": {
      "application/vnd.plotly.v1+json": {
       "config": {
        "plotlyServerURL": "https://plot.ly"
       },
       "data": [
        {
         "autocolorscale": false,
         "colorbar": {
          "title": {
           "text": "Cases number"
          }
         },
         "colorscale": [
          [
           0,
           "rgb(255,245,240)"
          ],
          [
           0.125,
           "rgb(254,224,210)"
          ],
          [
           0.25,
           "rgb(252,187,161)"
          ],
          [
           0.375,
           "rgb(252,146,114)"
          ],
          [
           0.5,
           "rgb(251,106,74)"
          ],
          [
           0.625,
           "rgb(239,59,44)"
          ],
          [
           0.75,
           "rgb(203,24,29)"
          ],
          [
           0.875,
           "rgb(165,15,21)"
          ],
          [
           1,
           "rgb(103,0,13)"
          ]
         ],
         "locationmode": "USA-states",
         "locations": [
          "CA",
          "TX",
          "FL",
          "AZ",
          "GA",
          "CO",
          "WA",
          "OK",
          "NC",
          "OH",
          "MO",
          "TN",
          "IL",
          "PA",
          "NY",
          "LA",
          "NM",
          "AL",
          "NV",
          "IN",
          "MD",
          "KY",
          "VA",
          "MI",
          "SC",
          "WI",
          "OR",
          "AR",
          "MS",
          "NJ",
          "UT",
          "MN",
          "KS",
          "WV",
          "MA",
          "ID",
          "IA",
          "MT",
          "AK",
          "CT",
          "HI",
          "NE",
          "ME",
          "DC",
          "SD",
          "WY",
          "DE",
          "NH",
          "ND",
          "VT",
          "RI"
         ],
         "marker": {
          "line": {
           "color": "white"
          }
         },
         "text": [
          "Number of police violence<br>State:CA<br>",
          "Number of police violence<br>State:TX<br>",
          "Number of police violence<br>State:FL<br>",
          "Number of police violence<br>State:AZ<br>",
          "Number of police violence<br>State:GA<br>",
          "Number of police violence<br>State:CO<br>",
          "Number of police violence<br>State:WA<br>",
          "Number of police violence<br>State:OK<br>",
          "Number of police violence<br>State:NC<br>",
          "Number of police violence<br>State:OH<br>",
          "Number of police violence<br>State:MO<br>",
          "Number of police violence<br>State:TN<br>",
          "Number of police violence<br>State:IL<br>",
          "Number of police violence<br>State:PA<br>",
          "Number of police violence<br>State:NY<br>",
          "Number of police violence<br>State:LA<br>",
          "Number of police violence<br>State:NM<br>",
          "Number of police violence<br>State:AL<br>",
          "Number of police violence<br>State:NV<br>",
          "Number of police violence<br>State:IN<br>",
          "Number of police violence<br>State:MD<br>",
          "Number of police violence<br>State:KY<br>",
          "Number of police violence<br>State:VA<br>",
          "Number of police violence<br>State:MI<br>",
          "Number of police violence<br>State:SC<br>",
          "Number of police violence<br>State:WI<br>",
          "Number of police violence<br>State:OR<br>",
          "Number of police violence<br>State:AR<br>",
          "Number of police violence<br>State:MS<br>",
          "Number of police violence<br>State:NJ<br>",
          "Number of police violence<br>State:UT<br>",
          "Number of police violence<br>State:MN<br>",
          "Number of police violence<br>State:KS<br>",
          "Number of police violence<br>State:WV<br>",
          "Number of police violence<br>State:MA<br>",
          "Number of police violence<br>State:ID<br>",
          "Number of police violence<br>State:IA<br>",
          "Number of police violence<br>State:MT<br>",
          "Number of police violence<br>State:AK<br>",
          "Number of police violence<br>State:CT<br>",
          "Number of police violence<br>State:HI<br>",
          "Number of police violence<br>State:NE<br>",
          "Number of police violence<br>State:ME<br>",
          "Number of police violence<br>State:DC<br>",
          "Number of police violence<br>State:SD<br>",
          "Number of police violence<br>State:WY<br>",
          "Number of police violence<br>State:DE<br>",
          "Number of police violence<br>State:NH<br>",
          "Number of police violence<br>State:ND<br>",
          "Number of police violence<br>State:VT<br>",
          "Number of police violence<br>State:RI<br>"
         ],
         "type": "choropleth",
         "z": [
          1306,
          784,
          611,
          375,
          299,
          267,
          244,
          235,
          235,
          229,
          226,
          200,
          190,
          184,
          173,
          167,
          157,
          153,
          144,
          141,
          139,
          136,
          136,
          133,
          132,
          125,
          124,
          117,
          115,
          113,
          94,
          91,
          79,
          76,
          58,
          53,
          52,
          47,
          47,
          40,
          39,
          39,
          34,
          27,
          26,
          22,
          21,
          18,
          14,
          12,
          6
         ]
        }
       ],
       "layout": {
        "geo": {
         "lakecolor": "rgb(255, 255, 255)",
         "projection": {
          "type": "albers usa"
         },
         "scope": "usa",
         "showlakes": false
        },
        "template": {
         "data": {
          "bar": [
           {
            "error_x": {
             "color": "#2a3f5f"
            },
            "error_y": {
             "color": "#2a3f5f"
            },
            "marker": {
             "line": {
              "color": "#E5ECF6",
              "width": 0.5
             }
            },
            "type": "bar"
           }
          ],
          "barpolar": [
           {
            "marker": {
             "line": {
              "color": "#E5ECF6",
              "width": 0.5
             }
            },
            "type": "barpolar"
           }
          ],
          "carpet": [
           {
            "aaxis": {
             "endlinecolor": "#2a3f5f",
             "gridcolor": "white",
             "linecolor": "white",
             "minorgridcolor": "white",
             "startlinecolor": "#2a3f5f"
            },
            "baxis": {
             "endlinecolor": "#2a3f5f",
             "gridcolor": "white",
             "linecolor": "white",
             "minorgridcolor": "white",
             "startlinecolor": "#2a3f5f"
            },
            "type": "carpet"
           }
          ],
          "choropleth": [
           {
            "colorbar": {
             "outlinewidth": 0,
             "ticks": ""
            },
            "type": "choropleth"
           }
          ],
          "contour": [
           {
            "colorbar": {
             "outlinewidth": 0,
             "ticks": ""
            },
            "colorscale": [
             [
              0,
              "#0d0887"
             ],
             [
              0.1111111111111111,
              "#46039f"
             ],
             [
              0.2222222222222222,
              "#7201a8"
             ],
             [
              0.3333333333333333,
              "#9c179e"
             ],
             [
              0.4444444444444444,
              "#bd3786"
             ],
             [
              0.5555555555555556,
              "#d8576b"
             ],
             [
              0.6666666666666666,
              "#ed7953"
             ],
             [
              0.7777777777777778,
              "#fb9f3a"
             ],
             [
              0.8888888888888888,
              "#fdca26"
             ],
             [
              1,
              "#f0f921"
             ]
            ],
            "type": "contour"
           }
          ],
          "contourcarpet": [
           {
            "colorbar": {
             "outlinewidth": 0,
             "ticks": ""
            },
            "type": "contourcarpet"
           }
          ],
          "heatmap": [
           {
            "colorbar": {
             "outlinewidth": 0,
             "ticks": ""
            },
            "colorscale": [
             [
              0,
              "#0d0887"
             ],
             [
              0.1111111111111111,
              "#46039f"
             ],
             [
              0.2222222222222222,
              "#7201a8"
             ],
             [
              0.3333333333333333,
              "#9c179e"
             ],
             [
              0.4444444444444444,
              "#bd3786"
             ],
             [
              0.5555555555555556,
              "#d8576b"
             ],
             [
              0.6666666666666666,
              "#ed7953"
             ],
             [
              0.7777777777777778,
              "#fb9f3a"
             ],
             [
              0.8888888888888888,
              "#fdca26"
             ],
             [
              1,
              "#f0f921"
             ]
            ],
            "type": "heatmap"
           }
          ],
          "heatmapgl": [
           {
            "colorbar": {
             "outlinewidth": 0,
             "ticks": ""
            },
            "colorscale": [
             [
              0,
              "#0d0887"
             ],
             [
              0.1111111111111111,
              "#46039f"
             ],
             [
              0.2222222222222222,
              "#7201a8"
             ],
             [
              0.3333333333333333,
              "#9c179e"
             ],
             [
              0.4444444444444444,
              "#bd3786"
             ],
             [
              0.5555555555555556,
              "#d8576b"
             ],
             [
              0.6666666666666666,
              "#ed7953"
             ],
             [
              0.7777777777777778,
              "#fb9f3a"
             ],
             [
              0.8888888888888888,
              "#fdca26"
             ],
             [
              1,
              "#f0f921"
             ]
            ],
            "type": "heatmapgl"
           }
          ],
          "histogram": [
           {
            "marker": {
             "colorbar": {
              "outlinewidth": 0,
              "ticks": ""
             }
            },
            "type": "histogram"
           }
          ],
          "histogram2d": [
           {
            "colorbar": {
             "outlinewidth": 0,
             "ticks": ""
            },
            "colorscale": [
             [
              0,
              "#0d0887"
             ],
             [
              0.1111111111111111,
              "#46039f"
             ],
             [
              0.2222222222222222,
              "#7201a8"
             ],
             [
              0.3333333333333333,
              "#9c179e"
             ],
             [
              0.4444444444444444,
              "#bd3786"
             ],
             [
              0.5555555555555556,
              "#d8576b"
             ],
             [
              0.6666666666666666,
              "#ed7953"
             ],
             [
              0.7777777777777778,
              "#fb9f3a"
             ],
             [
              0.8888888888888888,
              "#fdca26"
             ],
             [
              1,
              "#f0f921"
             ]
            ],
            "type": "histogram2d"
           }
          ],
          "histogram2dcontour": [
           {
            "colorbar": {
             "outlinewidth": 0,
             "ticks": ""
            },
            "colorscale": [
             [
              0,
              "#0d0887"
             ],
             [
              0.1111111111111111,
              "#46039f"
             ],
             [
              0.2222222222222222,
              "#7201a8"
             ],
             [
              0.3333333333333333,
              "#9c179e"
             ],
             [
              0.4444444444444444,
              "#bd3786"
             ],
             [
              0.5555555555555556,
              "#d8576b"
             ],
             [
              0.6666666666666666,
              "#ed7953"
             ],
             [
              0.7777777777777778,
              "#fb9f3a"
             ],
             [
              0.8888888888888888,
              "#fdca26"
             ],
             [
              1,
              "#f0f921"
             ]
            ],
            "type": "histogram2dcontour"
           }
          ],
          "mesh3d": [
           {
            "colorbar": {
             "outlinewidth": 0,
             "ticks": ""
            },
            "type": "mesh3d"
           }
          ],
          "parcoords": [
           {
            "line": {
             "colorbar": {
              "outlinewidth": 0,
              "ticks": ""
             }
            },
            "type": "parcoords"
           }
          ],
          "pie": [
           {
            "automargin": true,
            "type": "pie"
           }
          ],
          "scatter": [
           {
            "marker": {
             "colorbar": {
              "outlinewidth": 0,
              "ticks": ""
             }
            },
            "type": "scatter"
           }
          ],
          "scatter3d": [
           {
            "line": {
             "colorbar": {
              "outlinewidth": 0,
              "ticks": ""
             }
            },
            "marker": {
             "colorbar": {
              "outlinewidth": 0,
              "ticks": ""
             }
            },
            "type": "scatter3d"
           }
          ],
          "scattercarpet": [
           {
            "marker": {
             "colorbar": {
              "outlinewidth": 0,
              "ticks": ""
             }
            },
            "type": "scattercarpet"
           }
          ],
          "scattergeo": [
           {
            "marker": {
             "colorbar": {
              "outlinewidth": 0,
              "ticks": ""
             }
            },
            "type": "scattergeo"
           }
          ],
          "scattergl": [
           {
            "marker": {
             "colorbar": {
              "outlinewidth": 0,
              "ticks": ""
             }
            },
            "type": "scattergl"
           }
          ],
          "scattermapbox": [
           {
            "marker": {
             "colorbar": {
              "outlinewidth": 0,
              "ticks": ""
             }
            },
            "type": "scattermapbox"
           }
          ],
          "scatterpolar": [
           {
            "marker": {
             "colorbar": {
              "outlinewidth": 0,
              "ticks": ""
             }
            },
            "type": "scatterpolar"
           }
          ],
          "scatterpolargl": [
           {
            "marker": {
             "colorbar": {
              "outlinewidth": 0,
              "ticks": ""
             }
            },
            "type": "scatterpolargl"
           }
          ],
          "scatterternary": [
           {
            "marker": {
             "colorbar": {
              "outlinewidth": 0,
              "ticks": ""
             }
            },
            "type": "scatterternary"
           }
          ],
          "surface": [
           {
            "colorbar": {
             "outlinewidth": 0,
             "ticks": ""
            },
            "colorscale": [
             [
              0,
              "#0d0887"
             ],
             [
              0.1111111111111111,
              "#46039f"
             ],
             [
              0.2222222222222222,
              "#7201a8"
             ],
             [
              0.3333333333333333,
              "#9c179e"
             ],
             [
              0.4444444444444444,
              "#bd3786"
             ],
             [
              0.5555555555555556,
              "#d8576b"
             ],
             [
              0.6666666666666666,
              "#ed7953"
             ],
             [
              0.7777777777777778,
              "#fb9f3a"
             ],
             [
              0.8888888888888888,
              "#fdca26"
             ],
             [
              1,
              "#f0f921"
             ]
            ],
            "type": "surface"
           }
          ],
          "table": [
           {
            "cells": {
             "fill": {
              "color": "#EBF0F8"
             },
             "line": {
              "color": "white"
             }
            },
            "header": {
             "fill": {
              "color": "#C8D4E3"
             },
             "line": {
              "color": "white"
             }
            },
            "type": "table"
           }
          ]
         },
         "layout": {
          "annotationdefaults": {
           "arrowcolor": "#2a3f5f",
           "arrowhead": 0,
           "arrowwidth": 1
          },
          "coloraxis": {
           "colorbar": {
            "outlinewidth": 0,
            "ticks": ""
           }
          },
          "colorscale": {
           "diverging": [
            [
             0,
             "#8e0152"
            ],
            [
             0.1,
             "#c51b7d"
            ],
            [
             0.2,
             "#de77ae"
            ],
            [
             0.3,
             "#f1b6da"
            ],
            [
             0.4,
             "#fde0ef"
            ],
            [
             0.5,
             "#f7f7f7"
            ],
            [
             0.6,
             "#e6f5d0"
            ],
            [
             0.7,
             "#b8e186"
            ],
            [
             0.8,
             "#7fbc41"
            ],
            [
             0.9,
             "#4d9221"
            ],
            [
             1,
             "#276419"
            ]
           ],
           "sequential": [
            [
             0,
             "#0d0887"
            ],
            [
             0.1111111111111111,
             "#46039f"
            ],
            [
             0.2222222222222222,
             "#7201a8"
            ],
            [
             0.3333333333333333,
             "#9c179e"
            ],
            [
             0.4444444444444444,
             "#bd3786"
            ],
            [
             0.5555555555555556,
             "#d8576b"
            ],
            [
             0.6666666666666666,
             "#ed7953"
            ],
            [
             0.7777777777777778,
             "#fb9f3a"
            ],
            [
             0.8888888888888888,
             "#fdca26"
            ],
            [
             1,
             "#f0f921"
            ]
           ],
           "sequentialminus": [
            [
             0,
             "#0d0887"
            ],
            [
             0.1111111111111111,
             "#46039f"
            ],
            [
             0.2222222222222222,
             "#7201a8"
            ],
            [
             0.3333333333333333,
             "#9c179e"
            ],
            [
             0.4444444444444444,
             "#bd3786"
            ],
            [
             0.5555555555555556,
             "#d8576b"
            ],
            [
             0.6666666666666666,
             "#ed7953"
            ],
            [
             0.7777777777777778,
             "#fb9f3a"
            ],
            [
             0.8888888888888888,
             "#fdca26"
            ],
            [
             1,
             "#f0f921"
            ]
           ]
          },
          "colorway": [
           "#636efa",
           "#EF553B",
           "#00cc96",
           "#ab63fa",
           "#FFA15A",
           "#19d3f3",
           "#FF6692",
           "#B6E880",
           "#FF97FF",
           "#FECB52"
          ],
          "font": {
           "color": "#2a3f5f"
          },
          "geo": {
           "bgcolor": "white",
           "lakecolor": "white",
           "landcolor": "#E5ECF6",
           "showlakes": true,
           "showland": true,
           "subunitcolor": "white"
          },
          "hoverlabel": {
           "align": "left"
          },
          "hovermode": "closest",
          "mapbox": {
           "style": "light"
          },
          "paper_bgcolor": "white",
          "plot_bgcolor": "#E5ECF6",
          "polar": {
           "angularaxis": {
            "gridcolor": "white",
            "linecolor": "white",
            "ticks": ""
           },
           "bgcolor": "#E5ECF6",
           "radialaxis": {
            "gridcolor": "white",
            "linecolor": "white",
            "ticks": ""
           }
          },
          "scene": {
           "xaxis": {
            "backgroundcolor": "#E5ECF6",
            "gridcolor": "white",
            "gridwidth": 2,
            "linecolor": "white",
            "showbackground": true,
            "ticks": "",
            "zerolinecolor": "white"
           },
           "yaxis": {
            "backgroundcolor": "#E5ECF6",
            "gridcolor": "white",
            "gridwidth": 2,
            "linecolor": "white",
            "showbackground": true,
            "ticks": "",
            "zerolinecolor": "white"
           },
           "zaxis": {
            "backgroundcolor": "#E5ECF6",
            "gridcolor": "white",
            "gridwidth": 2,
            "linecolor": "white",
            "showbackground": true,
            "ticks": "",
            "zerolinecolor": "white"
           }
          },
          "shapedefaults": {
           "line": {
            "color": "#2a3f5f"
           }
          },
          "ternary": {
           "aaxis": {
            "gridcolor": "white",
            "linecolor": "white",
            "ticks": ""
           },
           "baxis": {
            "gridcolor": "white",
            "linecolor": "white",
            "ticks": ""
           },
           "bgcolor": "#E5ECF6",
           "caxis": {
            "gridcolor": "white",
            "linecolor": "white",
            "ticks": ""
           }
          },
          "title": {
           "x": 0.05
          },
          "xaxis": {
           "automargin": true,
           "gridcolor": "white",
           "linecolor": "white",
           "ticks": "",
           "title": {
            "standoff": 15
           },
           "zerolinecolor": "white",
           "zerolinewidth": 2
          },
          "yaxis": {
           "automargin": true,
           "gridcolor": "white",
           "linecolor": "white",
           "ticks": "",
           "title": {
            "standoff": 15
           },
           "zerolinecolor": "white",
           "zerolinewidth": 2
          }
         }
        },
        "title": {
         "text": "Number of Police Violence in US till Oct 2020<br>(Hover for breakdown)"
        }
       }
      },
      "text/html": [
       "<div>                            <div id=\"04761bbd-3c55-4db2-b143-c13691a0744f\" class=\"plotly-graph-div\" style=\"height:525px; width:100%;\"></div>            <script type=\"text/javascript\">                require([\"plotly\"], function(Plotly) {                    window.PLOTLYENV=window.PLOTLYENV || {};                                    if (document.getElementById(\"04761bbd-3c55-4db2-b143-c13691a0744f\")) {                    Plotly.newPlot(                        \"04761bbd-3c55-4db2-b143-c13691a0744f\",                        [{\"autocolorscale\": false, \"colorbar\": {\"title\": {\"text\": \"Cases number\"}}, \"colorscale\": [[0.0, \"rgb(255,245,240)\"], [0.125, \"rgb(254,224,210)\"], [0.25, \"rgb(252,187,161)\"], [0.375, \"rgb(252,146,114)\"], [0.5, \"rgb(251,106,74)\"], [0.625, \"rgb(239,59,44)\"], [0.75, \"rgb(203,24,29)\"], [0.875, \"rgb(165,15,21)\"], [1.0, \"rgb(103,0,13)\"]], \"locationmode\": \"USA-states\", \"locations\": [\"CA\", \"TX\", \"FL\", \"AZ\", \"GA\", \"CO\", \"WA\", \"OK\", \"NC\", \"OH\", \"MO\", \"TN\", \"IL\", \"PA\", \"NY\", \"LA\", \"NM\", \"AL\", \"NV\", \"IN\", \"MD\", \"KY\", \"VA\", \"MI\", \"SC\", \"WI\", \"OR\", \"AR\", \"MS\", \"NJ\", \"UT\", \"MN\", \"KS\", \"WV\", \"MA\", \"ID\", \"IA\", \"MT\", \"AK\", \"CT\", \"HI\", \"NE\", \"ME\", \"DC\", \"SD\", \"WY\", \"DE\", \"NH\", \"ND\", \"VT\", \"RI\"], \"marker\": {\"line\": {\"color\": \"white\"}}, \"text\": [\"Number of police violence<br>State:CA<br>\", \"Number of police violence<br>State:TX<br>\", \"Number of police violence<br>State:FL<br>\", \"Number of police violence<br>State:AZ<br>\", \"Number of police violence<br>State:GA<br>\", \"Number of police violence<br>State:CO<br>\", \"Number of police violence<br>State:WA<br>\", \"Number of police violence<br>State:OK<br>\", \"Number of police violence<br>State:NC<br>\", \"Number of police violence<br>State:OH<br>\", \"Number of police violence<br>State:MO<br>\", \"Number of police violence<br>State:TN<br>\", \"Number of police violence<br>State:IL<br>\", \"Number of police violence<br>State:PA<br>\", \"Number of police violence<br>State:NY<br>\", \"Number of police violence<br>State:LA<br>\", \"Number of police violence<br>State:NM<br>\", \"Number of police violence<br>State:AL<br>\", \"Number of police violence<br>State:NV<br>\", \"Number of police violence<br>State:IN<br>\", \"Number of police violence<br>State:MD<br>\", \"Number of police violence<br>State:KY<br>\", \"Number of police violence<br>State:VA<br>\", \"Number of police violence<br>State:MI<br>\", \"Number of police violence<br>State:SC<br>\", \"Number of police violence<br>State:WI<br>\", \"Number of police violence<br>State:OR<br>\", \"Number of police violence<br>State:AR<br>\", \"Number of police violence<br>State:MS<br>\", \"Number of police violence<br>State:NJ<br>\", \"Number of police violence<br>State:UT<br>\", \"Number of police violence<br>State:MN<br>\", \"Number of police violence<br>State:KS<br>\", \"Number of police violence<br>State:WV<br>\", \"Number of police violence<br>State:MA<br>\", \"Number of police violence<br>State:ID<br>\", \"Number of police violence<br>State:IA<br>\", \"Number of police violence<br>State:MT<br>\", \"Number of police violence<br>State:AK<br>\", \"Number of police violence<br>State:CT<br>\", \"Number of police violence<br>State:HI<br>\", \"Number of police violence<br>State:NE<br>\", \"Number of police violence<br>State:ME<br>\", \"Number of police violence<br>State:DC<br>\", \"Number of police violence<br>State:SD<br>\", \"Number of police violence<br>State:WY<br>\", \"Number of police violence<br>State:DE<br>\", \"Number of police violence<br>State:NH<br>\", \"Number of police violence<br>State:ND<br>\", \"Number of police violence<br>State:VT<br>\", \"Number of police violence<br>State:RI<br>\"], \"type\": \"choropleth\", \"z\": [1306, 784, 611, 375, 299, 267, 244, 235, 235, 229, 226, 200, 190, 184, 173, 167, 157, 153, 144, 141, 139, 136, 136, 133, 132, 125, 124, 117, 115, 113, 94, 91, 79, 76, 58, 53, 52, 47, 47, 40, 39, 39, 34, 27, 26, 22, 21, 18, 14, 12, 6]}],                        {\"geo\": {\"lakecolor\": \"rgb(255, 255, 255)\", \"projection\": {\"type\": \"albers usa\"}, \"scope\": \"usa\", \"showlakes\": false}, \"template\": {\"data\": {\"bar\": [{\"error_x\": {\"color\": \"#2a3f5f\"}, \"error_y\": {\"color\": \"#2a3f5f\"}, \"marker\": {\"line\": {\"color\": \"#E5ECF6\", \"width\": 0.5}}, \"type\": \"bar\"}], \"barpolar\": [{\"marker\": {\"line\": {\"color\": \"#E5ECF6\", \"width\": 0.5}}, \"type\": \"barpolar\"}], \"carpet\": [{\"aaxis\": {\"endlinecolor\": \"#2a3f5f\", \"gridcolor\": \"white\", \"linecolor\": \"white\", \"minorgridcolor\": \"white\", \"startlinecolor\": \"#2a3f5f\"}, \"baxis\": {\"endlinecolor\": \"#2a3f5f\", \"gridcolor\": \"white\", \"linecolor\": \"white\", \"minorgridcolor\": \"white\", \"startlinecolor\": \"#2a3f5f\"}, \"type\": \"carpet\"}], \"choropleth\": [{\"colorbar\": {\"outlinewidth\": 0, \"ticks\": \"\"}, \"type\": \"choropleth\"}], \"contour\": [{\"colorbar\": {\"outlinewidth\": 0, \"ticks\": \"\"}, \"colorscale\": [[0.0, \"#0d0887\"], [0.1111111111111111, \"#46039f\"], [0.2222222222222222, \"#7201a8\"], [0.3333333333333333, \"#9c179e\"], [0.4444444444444444, \"#bd3786\"], [0.5555555555555556, \"#d8576b\"], [0.6666666666666666, \"#ed7953\"], [0.7777777777777778, \"#fb9f3a\"], [0.8888888888888888, \"#fdca26\"], [1.0, \"#f0f921\"]], \"type\": \"contour\"}], \"contourcarpet\": [{\"colorbar\": {\"outlinewidth\": 0, \"ticks\": \"\"}, \"type\": \"contourcarpet\"}], \"heatmap\": [{\"colorbar\": {\"outlinewidth\": 0, \"ticks\": \"\"}, \"colorscale\": [[0.0, \"#0d0887\"], [0.1111111111111111, \"#46039f\"], [0.2222222222222222, \"#7201a8\"], [0.3333333333333333, \"#9c179e\"], [0.4444444444444444, \"#bd3786\"], [0.5555555555555556, \"#d8576b\"], [0.6666666666666666, \"#ed7953\"], [0.7777777777777778, \"#fb9f3a\"], [0.8888888888888888, \"#fdca26\"], [1.0, \"#f0f921\"]], \"type\": \"heatmap\"}], \"heatmapgl\": [{\"colorbar\": {\"outlinewidth\": 0, \"ticks\": \"\"}, \"colorscale\": [[0.0, \"#0d0887\"], [0.1111111111111111, \"#46039f\"], [0.2222222222222222, \"#7201a8\"], [0.3333333333333333, \"#9c179e\"], [0.4444444444444444, \"#bd3786\"], [0.5555555555555556, \"#d8576b\"], [0.6666666666666666, \"#ed7953\"], [0.7777777777777778, \"#fb9f3a\"], [0.8888888888888888, \"#fdca26\"], [1.0, \"#f0f921\"]], \"type\": \"heatmapgl\"}], \"histogram\": [{\"marker\": {\"colorbar\": {\"outlinewidth\": 0, \"ticks\": \"\"}}, \"type\": \"histogram\"}], \"histogram2d\": [{\"colorbar\": {\"outlinewidth\": 0, \"ticks\": \"\"}, \"colorscale\": [[0.0, \"#0d0887\"], [0.1111111111111111, \"#46039f\"], [0.2222222222222222, \"#7201a8\"], [0.3333333333333333, \"#9c179e\"], [0.4444444444444444, \"#bd3786\"], [0.5555555555555556, \"#d8576b\"], [0.6666666666666666, \"#ed7953\"], [0.7777777777777778, \"#fb9f3a\"], [0.8888888888888888, \"#fdca26\"], [1.0, \"#f0f921\"]], \"type\": \"histogram2d\"}], \"histogram2dcontour\": [{\"colorbar\": {\"outlinewidth\": 0, \"ticks\": \"\"}, \"colorscale\": [[0.0, \"#0d0887\"], [0.1111111111111111, \"#46039f\"], [0.2222222222222222, \"#7201a8\"], [0.3333333333333333, \"#9c179e\"], [0.4444444444444444, \"#bd3786\"], [0.5555555555555556, \"#d8576b\"], [0.6666666666666666, \"#ed7953\"], [0.7777777777777778, \"#fb9f3a\"], [0.8888888888888888, \"#fdca26\"], [1.0, \"#f0f921\"]], \"type\": \"histogram2dcontour\"}], \"mesh3d\": [{\"colorbar\": {\"outlinewidth\": 0, \"ticks\": \"\"}, \"type\": \"mesh3d\"}], \"parcoords\": [{\"line\": {\"colorbar\": {\"outlinewidth\": 0, \"ticks\": \"\"}}, \"type\": \"parcoords\"}], \"pie\": [{\"automargin\": true, \"type\": \"pie\"}], \"scatter\": [{\"marker\": {\"colorbar\": {\"outlinewidth\": 0, \"ticks\": \"\"}}, \"type\": \"scatter\"}], \"scatter3d\": [{\"line\": {\"colorbar\": {\"outlinewidth\": 0, \"ticks\": \"\"}}, \"marker\": {\"colorbar\": {\"outlinewidth\": 0, \"ticks\": \"\"}}, \"type\": \"scatter3d\"}], \"scattercarpet\": [{\"marker\": {\"colorbar\": {\"outlinewidth\": 0, \"ticks\": \"\"}}, \"type\": \"scattercarpet\"}], \"scattergeo\": [{\"marker\": {\"colorbar\": {\"outlinewidth\": 0, \"ticks\": \"\"}}, \"type\": \"scattergeo\"}], \"scattergl\": [{\"marker\": {\"colorbar\": {\"outlinewidth\": 0, \"ticks\": \"\"}}, \"type\": \"scattergl\"}], \"scattermapbox\": [{\"marker\": {\"colorbar\": {\"outlinewidth\": 0, \"ticks\": \"\"}}, \"type\": \"scattermapbox\"}], \"scatterpolar\": [{\"marker\": {\"colorbar\": {\"outlinewidth\": 0, \"ticks\": \"\"}}, \"type\": \"scatterpolar\"}], \"scatterpolargl\": [{\"marker\": {\"colorbar\": {\"outlinewidth\": 0, \"ticks\": \"\"}}, \"type\": \"scatterpolargl\"}], \"scatterternary\": [{\"marker\": {\"colorbar\": {\"outlinewidth\": 0, \"ticks\": \"\"}}, \"type\": \"scatterternary\"}], \"surface\": [{\"colorbar\": {\"outlinewidth\": 0, \"ticks\": \"\"}, \"colorscale\": [[0.0, \"#0d0887\"], [0.1111111111111111, \"#46039f\"], [0.2222222222222222, \"#7201a8\"], [0.3333333333333333, \"#9c179e\"], [0.4444444444444444, \"#bd3786\"], [0.5555555555555556, \"#d8576b\"], [0.6666666666666666, \"#ed7953\"], [0.7777777777777778, \"#fb9f3a\"], [0.8888888888888888, \"#fdca26\"], [1.0, \"#f0f921\"]], \"type\": \"surface\"}], \"table\": [{\"cells\": {\"fill\": {\"color\": \"#EBF0F8\"}, \"line\": {\"color\": \"white\"}}, \"header\": {\"fill\": {\"color\": \"#C8D4E3\"}, \"line\": {\"color\": \"white\"}}, \"type\": \"table\"}]}, \"layout\": {\"annotationdefaults\": {\"arrowcolor\": \"#2a3f5f\", \"arrowhead\": 0, \"arrowwidth\": 1}, \"coloraxis\": {\"colorbar\": {\"outlinewidth\": 0, \"ticks\": \"\"}}, \"colorscale\": {\"diverging\": [[0, \"#8e0152\"], [0.1, \"#c51b7d\"], [0.2, \"#de77ae\"], [0.3, \"#f1b6da\"], [0.4, \"#fde0ef\"], [0.5, \"#f7f7f7\"], [0.6, \"#e6f5d0\"], [0.7, \"#b8e186\"], [0.8, \"#7fbc41\"], [0.9, \"#4d9221\"], [1, \"#276419\"]], \"sequential\": [[0.0, \"#0d0887\"], [0.1111111111111111, \"#46039f\"], [0.2222222222222222, \"#7201a8\"], [0.3333333333333333, \"#9c179e\"], [0.4444444444444444, \"#bd3786\"], [0.5555555555555556, \"#d8576b\"], [0.6666666666666666, \"#ed7953\"], [0.7777777777777778, \"#fb9f3a\"], [0.8888888888888888, \"#fdca26\"], [1.0, \"#f0f921\"]], \"sequentialminus\": [[0.0, \"#0d0887\"], [0.1111111111111111, \"#46039f\"], [0.2222222222222222, \"#7201a8\"], [0.3333333333333333, \"#9c179e\"], [0.4444444444444444, \"#bd3786\"], [0.5555555555555556, \"#d8576b\"], [0.6666666666666666, \"#ed7953\"], [0.7777777777777778, \"#fb9f3a\"], [0.8888888888888888, \"#fdca26\"], [1.0, \"#f0f921\"]]}, \"colorway\": [\"#636efa\", \"#EF553B\", \"#00cc96\", \"#ab63fa\", \"#FFA15A\", \"#19d3f3\", \"#FF6692\", \"#B6E880\", \"#FF97FF\", \"#FECB52\"], \"font\": {\"color\": \"#2a3f5f\"}, \"geo\": {\"bgcolor\": \"white\", \"lakecolor\": \"white\", \"landcolor\": \"#E5ECF6\", \"showlakes\": true, \"showland\": true, \"subunitcolor\": \"white\"}, \"hoverlabel\": {\"align\": \"left\"}, \"hovermode\": \"closest\", \"mapbox\": {\"style\": \"light\"}, \"paper_bgcolor\": \"white\", \"plot_bgcolor\": \"#E5ECF6\", \"polar\": {\"angularaxis\": {\"gridcolor\": \"white\", \"linecolor\": \"white\", \"ticks\": \"\"}, \"bgcolor\": \"#E5ECF6\", \"radialaxis\": {\"gridcolor\": \"white\", \"linecolor\": \"white\", \"ticks\": \"\"}}, \"scene\": {\"xaxis\": {\"backgroundcolor\": \"#E5ECF6\", \"gridcolor\": \"white\", \"gridwidth\": 2, \"linecolor\": \"white\", \"showbackground\": true, \"ticks\": \"\", \"zerolinecolor\": \"white\"}, \"yaxis\": {\"backgroundcolor\": \"#E5ECF6\", \"gridcolor\": \"white\", \"gridwidth\": 2, \"linecolor\": \"white\", \"showbackground\": true, \"ticks\": \"\", \"zerolinecolor\": \"white\"}, \"zaxis\": {\"backgroundcolor\": \"#E5ECF6\", \"gridcolor\": \"white\", \"gridwidth\": 2, \"linecolor\": \"white\", \"showbackground\": true, \"ticks\": \"\", \"zerolinecolor\": \"white\"}}, \"shapedefaults\": {\"line\": {\"color\": \"#2a3f5f\"}}, \"ternary\": {\"aaxis\": {\"gridcolor\": \"white\", \"linecolor\": \"white\", \"ticks\": \"\"}, \"baxis\": {\"gridcolor\": \"white\", \"linecolor\": \"white\", \"ticks\": \"\"}, \"bgcolor\": \"#E5ECF6\", \"caxis\": {\"gridcolor\": \"white\", \"linecolor\": \"white\", \"ticks\": \"\"}}, \"title\": {\"x\": 0.05}, \"xaxis\": {\"automargin\": true, \"gridcolor\": \"white\", \"linecolor\": \"white\", \"ticks\": \"\", \"title\": {\"standoff\": 15}, \"zerolinecolor\": \"white\", \"zerolinewidth\": 2}, \"yaxis\": {\"automargin\": true, \"gridcolor\": \"white\", \"linecolor\": \"white\", \"ticks\": \"\", \"title\": {\"standoff\": 15}, \"zerolinecolor\": \"white\", \"zerolinewidth\": 2}}}, \"title\": {\"text\": \"Number of Police Violence in US till Oct 2020<br>(Hover for breakdown)\"}},                        {\"responsive\": true}                    ).then(function(){\n",
       "                            \n",
       "var gd = document.getElementById('04761bbd-3c55-4db2-b143-c13691a0744f');\n",
       "var x = new MutationObserver(function (mutations, observer) {{\n",
       "        var display = window.getComputedStyle(gd).display;\n",
       "        if (!display || display === 'none') {{\n",
       "            console.log([gd, 'removed!']);\n",
       "            Plotly.purge(gd);\n",
       "            observer.disconnect();\n",
       "        }}\n",
       "}});\n",
       "\n",
       "// Listen for the removal of the full notebook cells\n",
       "var notebookContainer = gd.closest('#notebook-container');\n",
       "if (notebookContainer) {{\n",
       "    x.observe(notebookContainer, {childList: true});\n",
       "}}\n",
       "\n",
       "// Listen for the clearing of the current output cell\n",
       "var outputEl = gd.closest('.output');\n",
       "if (outputEl) {{\n",
       "    x.observe(outputEl, {childList: true});\n",
       "}}\n",
       "\n",
       "                        })                };                });            </script>        </div>"
      ]
     },
     "metadata": {},
     "output_type": "display_data"
    }
   ],
   "source": [
    "states_occurances=dict(location for location in df['State'].value_counts().items())\n",
    "states=list(states_occurances.keys())\n",
    "values=list(states_occurances.values())\n",
    "df_counts=pd.DataFrame(data=values,index=states,columns=['# of police violence'])\n",
    "for col in df_counts.columns:\n",
    "    df_counts[col] = df_counts[col].astype(str)\n",
    "df_counts['text'] ='Number of police violence'+'<br>'+'State:'+ df_counts.index + '<br>'\n",
    "\n",
    "fig = go.Figure(data=go.Choropleth(\n",
    "    locations=states,\n",
    "    z=values,\n",
    "    locationmode='USA-states',\n",
    "    colorscale='Reds',\n",
    "    autocolorscale=False,\n",
    "    text=df_counts['text'], # hover text\n",
    "    marker_line_color='white', # line markers between states\n",
    "    colorbar_title=\"Cases number\"\n",
    "))\n",
    "\n",
    "fig.update_layout(\n",
    "    title_text='Number of Police Violence in US till Oct 2020<br>(Hover for breakdown)',\n",
    "    geo = dict(\n",
    "        scope='usa',\n",
    "        projection=go.layout.geo.Projection(type = 'albers usa'),\n",
    "        showlakes=False, \n",
    "        lakecolor='rgb(255, 255, 255)'),\n",
    ")\n",
    "\n",
    "fig.show()"
   ]
  },
  {
   "cell_type": "code",
   "execution_count": 103,
   "metadata": {},
   "outputs": [],
   "source": [
    "#Extract data from 2019 calendar year\n",
    "import datetime\n",
    "start=datetime.datetime(2019,1,1)\n",
    "end=datetime.datetime(2020,1,1)\n",
    "rng = pd.date_range(start, end)\n",
    "df_2019=df[df['Date of Incident (month/day/year)']>=start]\n",
    "df_2019=df_2019[df_2019['Date of Incident (month/day/year)']<end]"
   ]
  },
  {
   "cell_type": "code",
   "execution_count": 104,
   "metadata": {},
   "outputs": [],
   "source": [
    "df_2019.tail()\n",
    "df_2019.head()\n",
    "#Get frequncy data and sort it by date\n",
    "df_2019=df_2019['Date of Incident (month/day/year)'].value_counts(sort= False).sort_index()\n",
    "df_2019=dict(df_2019.cumsum().items())\n",
    "\n",
    "#Extract 2020 data\n",
    "start=datetime.datetime(2020,1,1)\n",
    "end=datetime.datetime(2020,10,4)\n",
    "df_2020=df[df['Date of Incident (month/day/year)']>=start]\n",
    "df_2020=df_2020[df_2020['Date of Incident (month/day/year)']<end]\n",
    "df_2020=df_2020['Date of Incident (month/day/year)'].value_counts(sort= False).sort_index()\n",
    "df_2020=dict(df_2020.cumsum().items())"
   ]
  },
  {
   "cell_type": "code",
   "execution_count": 117,
   "metadata": {},
   "outputs": [
    {
     "data": {
      "image/png": "[encoded data removed]",
      "text/plain": [
       "<Figure size 432x288 with 1 Axes>"
      ]
     },
     "metadata": {},
     "output_type": "display_data"
    }
   ],
   "source": [
    "#Plot 2019 cases \n",
    "plt.figure()\n",
    "plt.plot(list(df_2019.keys()),list(df_2019.values()),'b-',linewidth=1)\n",
    "plt.plot(list(df_2020.keys()),list(df_2020.values()),'r-',linewidth=2)\n",
    "plt.title('Cumulative Police Violence Over 2019 and 2020',fontsize=15)\n",
    "plt.xlabel('Time')\n",
    "plt.legend(['2019','2020'],loc='best')\n",
    "plt.ylabel('Number of Cases')\n",
    "plt.show()"
   ]
  }
 ],
 "metadata": {
  "kernelspec": {
   "display_name": "Python 3",
   "language": "python",
   "name": "python3"
  },
  "language_info": {
   "codemirror_mode": {
    "name": "ipython",
    "version": 3
   },
   "file_extension": ".py",
   "mimetype": "text/x-python",
   "name": "python",
   "nbconvert_exporter": "python",
   "pygments_lexer": "ipython3",
   "version": "3.8.3"
  }
 },
 "nbformat": 4,
 "nbformat_minor": 4
}
